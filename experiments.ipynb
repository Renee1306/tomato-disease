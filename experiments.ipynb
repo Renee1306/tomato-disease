{
 "cells": [
  {
   "cell_type": "code",
   "execution_count": 1,
   "id": "ea4ac2d6",
   "metadata": {
    "_cell_guid": "b1076dfc-b9ad-4769-8c92-a6c4dae69d19",
    "_uuid": "8f2839f25d086af736a60e9eeb907d3b93b6e0e5",
    "execution": {
     "iopub.execute_input": "2024-12-28T10:56:41.094197Z",
     "iopub.status.busy": "2024-12-28T10:56:41.093889Z",
     "iopub.status.idle": "2024-12-28T10:56:56.803168Z",
     "shell.execute_reply": "2024-12-28T10:56:56.802487Z"
    },
    "papermill": {
     "duration": 15.718236,
     "end_time": "2024-12-28T10:56:56.804686",
     "exception": false,
     "start_time": "2024-12-28T10:56:41.086450",
     "status": "completed"
    },
    "tags": []
   },
   "outputs": [
    {
     "name": "stdout",
     "output_type": "stream",
     "text": [
      "Found 9973 files belonging to 10 classes.\n",
      "Found 1595 files belonging to 10 classes.\n",
      "Found 1607 files belonging to 10 classes.\n"
     ]
    }
   ],
   "source": [
    "# Load Dataset\n",
    "import tensorflow as tf\n",
    "\n",
    "# Balance\n",
    "train_dir = '/kaggle/input/tomatodiseasedataset/TomatoDiseaseSplit/train'\n",
    "val_dir = '/kaggle/input/tomatodiseasedataset/TomatoDiseaseSplit/val'\n",
    "test_dir = '/kaggle/input/tomatodiseasedataset/TomatoDiseaseSplit/test'\n",
    "\n",
    "# Define parameters\n",
    "BATCH_SIZE = 32\n",
    "IMG_SIZE = (256, 256)  # Image dimensions\n",
    "\n",
    "# Load the train dataset\n",
    "train_dataset = tf.keras.preprocessing.image_dataset_from_directory(train_dir,\n",
    "                                                                    shuffle=True,\n",
    "                                                                    batch_size=BATCH_SIZE,\n",
    "                                                                    image_size=IMG_SIZE)\n",
    "\n",
    "\n",
    "# Load the validation dataset\n",
    "val_dataset = tf.keras.preprocessing.image_dataset_from_directory(val_dir,\n",
    "                                                                  shuffle=True,\n",
    "                                                                  batch_size=BATCH_SIZE,\n",
    "                                                                  image_size=IMG_SIZE)\n",
    "\n",
    "\n",
    "# Load the test dataset\n",
    "test_dataset = tf.keras.preprocessing.image_dataset_from_directory(test_dir,\n",
    "                                                                   shuffle=False,\n",
    "                                                                   batch_size=BATCH_SIZE,\n",
    "                                                                   image_size=IMG_SIZE)"
   ]
  },
  {
   "cell_type": "code",
   "execution_count": 2,
   "id": "db893993",
   "metadata": {
    "execution": {
     "iopub.execute_input": "2024-12-28T10:56:56.816655Z",
     "iopub.status.busy": "2024-12-28T10:56:56.816394Z",
     "iopub.status.idle": "2024-12-28T10:56:56.820448Z",
     "shell.execute_reply": "2024-12-28T10:56:56.819737Z"
    },
    "papermill": {
     "duration": 0.011069,
     "end_time": "2024-12-28T10:56:56.821734",
     "exception": false,
     "start_time": "2024-12-28T10:56:56.810665",
     "status": "completed"
    },
    "tags": []
   },
   "outputs": [
    {
     "name": "stdout",
     "output_type": "stream",
     "text": [
      "Class names: ['Tomato_Bacterial_spot', 'Tomato_Early_blight', 'Tomato_Late_blight', 'Tomato_Leaf_Mold', 'Tomato_Septoria_leaf_spot', 'Tomato_Spider_mites_Two_spotted_spider_mite', 'Tomato__Target_Spot', 'Tomato__Tomato_YellowLeaf__Curl_Virus', 'Tomato__Tomato_mosaic_virus', 'Tomato_healthy']\n"
     ]
    }
   ],
   "source": [
    "# Print class names\n",
    "class_names = train_dataset.class_names\n",
    "print(\"Class names:\", class_names)"
   ]
  },
  {
   "cell_type": "code",
   "execution_count": 3,
   "id": "6ea61f79",
   "metadata": {
    "execution": {
     "iopub.execute_input": "2024-12-28T10:56:56.833031Z",
     "iopub.status.busy": "2024-12-28T10:56:56.832824Z",
     "iopub.status.idle": "2024-12-28T10:56:56.895172Z",
     "shell.execute_reply": "2024-12-28T10:56:56.894477Z"
    },
    "papermill": {
     "duration": 0.069742,
     "end_time": "2024-12-28T10:56:56.896589",
     "exception": false,
     "start_time": "2024-12-28T10:56:56.826847",
     "status": "completed"
    },
    "tags": []
   },
   "outputs": [],
   "source": [
    "# Define normalization layer\n",
    "normalization_layer = tf.keras.layers.Rescaling(1./255)\n",
    "\n",
    "# Apply normalization to each dataset\n",
    "train_dataset = train_dataset.map(lambda x, y: (normalization_layer(x), y))\n",
    "val_dataset = val_dataset.map(lambda x, y: (normalization_layer(x), y))\n",
    "test_dataset = test_dataset.map(lambda x, y: (normalization_layer(x), y))"
   ]
  },
  {
   "cell_type": "code",
   "execution_count": 4,
   "id": "86d7d3e9",
   "metadata": {
    "execution": {
     "iopub.execute_input": "2024-12-28T10:56:56.908233Z",
     "iopub.status.busy": "2024-12-28T10:56:56.907960Z",
     "iopub.status.idle": "2024-12-28T10:56:56.915064Z",
     "shell.execute_reply": "2024-12-28T10:56:56.914209Z"
    },
    "papermill": {
     "duration": 0.014128,
     "end_time": "2024-12-28T10:56:56.916246",
     "exception": false,
     "start_time": "2024-12-28T10:56:56.902118",
     "status": "completed"
    },
    "tags": []
   },
   "outputs": [],
   "source": [
    "# Apply prefetching\n",
    "AUTOTUNE = tf.data.AUTOTUNE  # Automatically determine the optimal buffer size\n",
    "\n",
    "train_dataset = train_dataset.prefetch(buffer_size=AUTOTUNE)\n",
    "val_dataset = val_dataset.prefetch(buffer_size=AUTOTUNE)\n",
    "test_dataset = test_dataset.prefetch(buffer_size=AUTOTUNE)"
   ]
  },
  {
   "cell_type": "code",
   "execution_count": 5,
   "id": "75939e8f",
   "metadata": {
    "execution": {
     "iopub.execute_input": "2024-12-28T10:56:56.927494Z",
     "iopub.status.busy": "2024-12-28T10:56:56.927236Z",
     "iopub.status.idle": "2024-12-28T10:56:56.930778Z",
     "shell.execute_reply": "2024-12-28T10:56:56.929869Z"
    },
    "papermill": {
     "duration": 0.010642,
     "end_time": "2024-12-28T10:56:56.932205",
     "exception": false,
     "start_time": "2024-12-28T10:56:56.921563",
     "status": "completed"
    },
    "tags": []
   },
   "outputs": [],
   "source": [
    "# Define input shape, number of classes and batch size\n",
    "input_shape = (256, 256, 3)\n",
    "num_classes = 10  \n",
    "batch_size = 32"
   ]
  },
  {
   "cell_type": "markdown",
   "id": "d24abd6c",
   "metadata": {
    "papermill": {
     "duration": 0.005198,
     "end_time": "2024-12-28T10:56:56.942774",
     "exception": false,
     "start_time": "2024-12-28T10:56:56.937576",
     "status": "completed"
    },
    "tags": []
   },
   "source": [
    "# Custom CNN"
   ]
  },
  {
   "cell_type": "markdown",
   "id": "0da04673",
   "metadata": {
    "papermill": {
     "duration": 0.005048,
     "end_time": "2024-12-28T10:56:56.953264",
     "exception": false,
     "start_time": "2024-12-28T10:56:56.948216",
     "status": "completed"
    },
    "tags": []
   },
   "source": [
    "## Trial 1: 3 Block"
   ]
  },
  {
   "cell_type": "code",
   "execution_count": 6,
   "id": "4921b530",
   "metadata": {
    "execution": {
     "iopub.execute_input": "2024-12-28T10:56:56.964303Z",
     "iopub.status.busy": "2024-12-28T10:56:56.964078Z",
     "iopub.status.idle": "2024-12-28T10:56:57.062544Z",
     "shell.execute_reply": "2024-12-28T10:56:57.061926Z"
    },
    "papermill": {
     "duration": 0.105558,
     "end_time": "2024-12-28T10:56:57.063969",
     "exception": false,
     "start_time": "2024-12-28T10:56:56.958411",
     "status": "completed"
    },
    "tags": []
   },
   "outputs": [],
   "source": [
    "import tensorflow as tf\n",
    "from tensorflow.keras import layers, models,optimizers\n",
    "\n",
    "# Function to build the Tomato Disease CNN\n",
    "def build_tomato_disease_cnn(input_shape, num_classes):\n",
    "    model = models.Sequential([\n",
    "        # Input Layer\n",
    "        layers.Input(shape=input_shape),\n",
    "        \n",
    "        # First Convolutional Layer\n",
    "        layers.Conv2D(filters=32, kernel_size=(3, 3), activation='relu'),\n",
    "        layers.MaxPooling2D((2, 2)),\n",
    "        \n",
    "        # Second Convolutional Layer\n",
    "        layers.Conv2D(filters=64, kernel_size=(3, 3), activation='relu'),\n",
    "        layers.MaxPooling2D((2, 2)),\n",
    "        \n",
    "        # Third Convolutional Layer\n",
    "        layers.Conv2D(filters=64, kernel_size=(3, 3), activation='relu'),\n",
    "        layers.MaxPooling2D((2, 2)),\n",
    "\n",
    "        # Flatten the Output\n",
    "        layers.Flatten(),\n",
    "        \n",
    "        # Dropout Layer (50%)\n",
    "        layers.Dropout(0.5),\n",
    "        \n",
    "        # Fully Connected Dense Layer\n",
    "        layers.Dense(units=128, activation='relu'),\n",
    "        \n",
    "        # Dropout Layer (30%)\n",
    "        layers.Dropout(0.3),\n",
    "        \n",
    "        # Output Layer\n",
    "        layers.Dense(units=num_classes, activation='softmax')\n",
    "    ])\n",
    "    return model\n",
    "\n",
    "input_shape = (256, 256, 3)  # Adjust according to your dataset (image height, width, channels)\n",
    "num_classes = 10             # Replace with the actual number of classes in your dataset\n",
    "\n",
    "# Build the model\n",
    "cnn_model = build_tomato_disease_cnn(input_shape, num_classes)"
   ]
  },
  {
   "cell_type": "code",
   "execution_count": 7,
   "id": "3f3bad94",
   "metadata": {
    "execution": {
     "iopub.execute_input": "2024-12-28T10:56:57.075383Z",
     "iopub.status.busy": "2024-12-28T10:56:57.075170Z",
     "iopub.status.idle": "2024-12-28T11:06:05.954541Z",
     "shell.execute_reply": "2024-12-28T11:06:05.953607Z"
    },
    "papermill": {
     "duration": 548.886708,
     "end_time": "2024-12-28T11:06:05.956106",
     "exception": false,
     "start_time": "2024-12-28T10:56:57.069398",
     "status": "completed"
    },
    "tags": []
   },
   "outputs": [
    {
     "name": "stdout",
     "output_type": "stream",
     "text": [
      "Epoch 1/30\n",
      "\u001b[1m312/312\u001b[0m \u001b[32m━━━━━━━━━━━━━━━━━━━━\u001b[0m\u001b[37m\u001b[0m \u001b[1m34s\u001b[0m 80ms/step - accuracy: 0.3053 - loss: 1.9124 - val_accuracy: 0.7122 - val_loss: 0.9377 - learning_rate: 1.0000e-04\n",
      "Epoch 2/30\n",
      "\u001b[1m312/312\u001b[0m \u001b[32m━━━━━━━━━━━━━━━━━━━━\u001b[0m\u001b[37m\u001b[0m \u001b[1m25s\u001b[0m 53ms/step - accuracy: 0.7025 - loss: 0.8858 - val_accuracy: 0.7517 - val_loss: 0.7226 - learning_rate: 1.0000e-04\n",
      "Epoch 3/30\n",
      "\u001b[1m312/312\u001b[0m \u001b[32m━━━━━━━━━━━━━━━━━━━━\u001b[0m\u001b[37m\u001b[0m \u001b[1m16s\u001b[0m 53ms/step - accuracy: 0.7731 - loss: 0.6730 - val_accuracy: 0.8238 - val_loss: 0.5240 - learning_rate: 1.0000e-04\n",
      "Epoch 4/30\n",
      "\u001b[1m312/312\u001b[0m \u001b[32m━━━━━━━━━━━━━━━━━━━━\u001b[0m\u001b[37m\u001b[0m \u001b[1m17s\u001b[0m 54ms/step - accuracy: 0.8179 - loss: 0.5518 - val_accuracy: 0.8445 - val_loss: 0.4444 - learning_rate: 1.0000e-04\n",
      "Epoch 5/30\n",
      "\u001b[1m312/312\u001b[0m \u001b[32m━━━━━━━━━━━━━━━━━━━━\u001b[0m\u001b[37m\u001b[0m \u001b[1m17s\u001b[0m 55ms/step - accuracy: 0.8472 - loss: 0.4691 - val_accuracy: 0.8671 - val_loss: 0.3899 - learning_rate: 1.0000e-04\n",
      "Epoch 6/30\n",
      "\u001b[1m312/312\u001b[0m \u001b[32m━━━━━━━━━━━━━━━━━━━━\u001b[0m\u001b[37m\u001b[0m \u001b[1m17s\u001b[0m 56ms/step - accuracy: 0.8678 - loss: 0.4056 - val_accuracy: 0.8746 - val_loss: 0.3657 - learning_rate: 1.0000e-04\n",
      "Epoch 7/30\n",
      "\u001b[1m312/312\u001b[0m \u001b[32m━━━━━━━━━━━━━━━━━━━━\u001b[0m\u001b[37m\u001b[0m \u001b[1m18s\u001b[0m 57ms/step - accuracy: 0.8819 - loss: 0.3660 - val_accuracy: 0.8834 - val_loss: 0.3312 - learning_rate: 1.0000e-04\n",
      "Epoch 8/30\n",
      "\u001b[1m312/312\u001b[0m \u001b[32m━━━━━━━━━━━━━━━━━━━━\u001b[0m\u001b[37m\u001b[0m \u001b[1m18s\u001b[0m 57ms/step - accuracy: 0.8982 - loss: 0.3054 - val_accuracy: 0.8865 - val_loss: 0.3268 - learning_rate: 1.0000e-04\n",
      "Epoch 9/30\n",
      "\u001b[1m312/312\u001b[0m \u001b[32m━━━━━━━━━━━━━━━━━━━━\u001b[0m\u001b[37m\u001b[0m \u001b[1m17s\u001b[0m 56ms/step - accuracy: 0.9037 - loss: 0.2840 - val_accuracy: 0.8953 - val_loss: 0.3082 - learning_rate: 1.0000e-04\n",
      "Epoch 10/30\n",
      "\u001b[1m312/312\u001b[0m \u001b[32m━━━━━━━━━━━━━━━━━━━━\u001b[0m\u001b[37m\u001b[0m \u001b[1m17s\u001b[0m 56ms/step - accuracy: 0.9221 - loss: 0.2447 - val_accuracy: 0.8746 - val_loss: 0.3526 - learning_rate: 1.0000e-04\n",
      "Epoch 11/30\n",
      "\u001b[1m312/312\u001b[0m \u001b[32m━━━━━━━━━━━━━━━━━━━━\u001b[0m\u001b[37m\u001b[0m \u001b[1m18s\u001b[0m 56ms/step - accuracy: 0.9236 - loss: 0.2384 - val_accuracy: 0.9016 - val_loss: 0.2800 - learning_rate: 1.0000e-04\n",
      "Epoch 12/30\n",
      "\u001b[1m312/312\u001b[0m \u001b[32m━━━━━━━━━━━━━━━━━━━━\u001b[0m\u001b[37m\u001b[0m \u001b[1m18s\u001b[0m 57ms/step - accuracy: 0.9278 - loss: 0.2189 - val_accuracy: 0.9072 - val_loss: 0.2716 - learning_rate: 1.0000e-04\n",
      "Epoch 13/30\n",
      "\u001b[1m312/312\u001b[0m \u001b[32m━━━━━━━━━━━━━━━━━━━━\u001b[0m\u001b[37m\u001b[0m \u001b[1m18s\u001b[0m 56ms/step - accuracy: 0.9358 - loss: 0.1915 - val_accuracy: 0.9022 - val_loss: 0.2821 - learning_rate: 1.0000e-04\n",
      "Epoch 14/30\n",
      "\u001b[1m312/312\u001b[0m \u001b[32m━━━━━━━━━━━━━━━━━━━━\u001b[0m\u001b[37m\u001b[0m \u001b[1m18s\u001b[0m 56ms/step - accuracy: 0.9348 - loss: 0.1948 - val_accuracy: 0.9060 - val_loss: 0.2847 - learning_rate: 1.0000e-04\n",
      "Epoch 15/30\n",
      "\u001b[1m312/312\u001b[0m \u001b[32m━━━━━━━━━━━━━━━━━━━━\u001b[0m\u001b[37m\u001b[0m \u001b[1m17s\u001b[0m 56ms/step - accuracy: 0.9441 - loss: 0.1710 - val_accuracy: 0.9060 - val_loss: 0.2705 - learning_rate: 1.0000e-04\n",
      "Epoch 16/30\n",
      "\u001b[1m312/312\u001b[0m \u001b[32m━━━━━━━━━━━━━━━━━━━━\u001b[0m\u001b[37m\u001b[0m \u001b[1m17s\u001b[0m 56ms/step - accuracy: 0.9548 - loss: 0.1491 - val_accuracy: 0.9116 - val_loss: 0.2704 - learning_rate: 1.0000e-04\n",
      "Epoch 17/30\n",
      "\u001b[1m312/312\u001b[0m \u001b[32m━━━━━━━━━━━━━━━━━━━━\u001b[0m\u001b[37m\u001b[0m \u001b[1m18s\u001b[0m 56ms/step - accuracy: 0.9534 - loss: 0.1398 - val_accuracy: 0.9078 - val_loss: 0.2759 - learning_rate: 1.0000e-04\n",
      "Epoch 18/30\n",
      "\u001b[1m312/312\u001b[0m \u001b[32m━━━━━━━━━━━━━━━━━━━━\u001b[0m\u001b[37m\u001b[0m \u001b[1m18s\u001b[0m 56ms/step - accuracy: 0.9606 - loss: 0.1159 - val_accuracy: 0.9122 - val_loss: 0.2819 - learning_rate: 1.0000e-04\n",
      "Epoch 19/30\n",
      "\u001b[1m312/312\u001b[0m \u001b[32m━━━━━━━━━━━━━━━━━━━━\u001b[0m\u001b[37m\u001b[0m \u001b[1m18s\u001b[0m 56ms/step - accuracy: 0.9560 - loss: 0.1231 - val_accuracy: 0.9122 - val_loss: 0.2619 - learning_rate: 1.0000e-04\n",
      "Epoch 20/30\n",
      "\u001b[1m312/312\u001b[0m \u001b[32m━━━━━━━━━━━━━━━━━━━━\u001b[0m\u001b[37m\u001b[0m \u001b[1m17s\u001b[0m 56ms/step - accuracy: 0.9644 - loss: 0.1114 - val_accuracy: 0.9116 - val_loss: 0.2725 - learning_rate: 1.0000e-04\n",
      "Epoch 21/30\n",
      "\u001b[1m312/312\u001b[0m \u001b[32m━━━━━━━━━━━━━━━━━━━━\u001b[0m\u001b[37m\u001b[0m \u001b[1m18s\u001b[0m 56ms/step - accuracy: 0.9651 - loss: 0.1016 - val_accuracy: 0.9091 - val_loss: 0.2766 - learning_rate: 1.0000e-04\n",
      "Epoch 22/30\n",
      "\u001b[1m312/312\u001b[0m \u001b[32m━━━━━━━━━━━━━━━━━━━━\u001b[0m\u001b[37m\u001b[0m \u001b[1m18s\u001b[0m 57ms/step - accuracy: 0.9662 - loss: 0.1037 - val_accuracy: 0.9047 - val_loss: 0.2878 - learning_rate: 1.0000e-04\n",
      "Epoch 23/30\n",
      "\u001b[1m312/312\u001b[0m \u001b[32m━━━━━━━━━━━━━━━━━━━━\u001b[0m\u001b[37m\u001b[0m \u001b[1m18s\u001b[0m 56ms/step - accuracy: 0.9747 - loss: 0.0789 - val_accuracy: 0.9223 - val_loss: 0.2482 - learning_rate: 5.0000e-05\n",
      "Epoch 24/30\n",
      "\u001b[1m312/312\u001b[0m \u001b[32m━━━━━━━━━━━━━━━━━━━━\u001b[0m\u001b[37m\u001b[0m \u001b[1m18s\u001b[0m 56ms/step - accuracy: 0.9798 - loss: 0.0643 - val_accuracy: 0.9116 - val_loss: 0.2699 - learning_rate: 5.0000e-05\n",
      "Epoch 25/30\n",
      "\u001b[1m312/312\u001b[0m \u001b[32m━━━━━━━━━━━━━━━━━━━━\u001b[0m\u001b[37m\u001b[0m \u001b[1m18s\u001b[0m 56ms/step - accuracy: 0.9798 - loss: 0.0655 - val_accuracy: 0.9197 - val_loss: 0.2742 - learning_rate: 5.0000e-05\n",
      "Epoch 26/30\n",
      "\u001b[1m312/312\u001b[0m \u001b[32m━━━━━━━━━━━━━━━━━━━━\u001b[0m\u001b[37m\u001b[0m \u001b[1m18s\u001b[0m 56ms/step - accuracy: 0.9789 - loss: 0.0608 - val_accuracy: 0.9197 - val_loss: 0.2674 - learning_rate: 5.0000e-05\n",
      "Epoch 27/30\n",
      "\u001b[1m312/312\u001b[0m \u001b[32m━━━━━━━━━━━━━━━━━━━━\u001b[0m\u001b[37m\u001b[0m \u001b[1m18s\u001b[0m 57ms/step - accuracy: 0.9847 - loss: 0.0546 - val_accuracy: 0.9266 - val_loss: 0.2467 - learning_rate: 2.5000e-05\n",
      "Epoch 28/30\n",
      "\u001b[1m312/312\u001b[0m \u001b[32m━━━━━━━━━━━━━━━━━━━━\u001b[0m\u001b[37m\u001b[0m \u001b[1m18s\u001b[0m 57ms/step - accuracy: 0.9864 - loss: 0.0544 - val_accuracy: 0.9260 - val_loss: 0.2525 - learning_rate: 2.5000e-05\n",
      "Epoch 29/30\n",
      "\u001b[1m312/312\u001b[0m \u001b[32m━━━━━━━━━━━━━━━━━━━━\u001b[0m\u001b[37m\u001b[0m \u001b[1m18s\u001b[0m 56ms/step - accuracy: 0.9865 - loss: 0.0433 - val_accuracy: 0.9223 - val_loss: 0.2640 - learning_rate: 2.5000e-05\n",
      "Epoch 30/30\n",
      "\u001b[1m312/312\u001b[0m \u001b[32m━━━━━━━━━━━━━━━━━━━━\u001b[0m\u001b[37m\u001b[0m \u001b[1m18s\u001b[0m 56ms/step - accuracy: 0.9896 - loss: 0.0420 - val_accuracy: 0.9210 - val_loss: 0.2652 - learning_rate: 2.5000e-05\n"
     ]
    }
   ],
   "source": [
    "from tensorflow.keras.callbacks import EarlyStopping, ReduceLROnPlateau\n",
    "\n",
    "# Compile the model with learning rate 0.0001\n",
    "optimizer = optimizers.Adam(learning_rate=0.0001)\n",
    "cnn_model.compile(optimizer=optimizer,\n",
    "                loss='sparse_categorical_crossentropy',\n",
    "                metrics=['accuracy'])\n",
    "\n",
    "# Callbacks for early stopping and learning rate reduction\n",
    "early_stopping = EarlyStopping(monitor='val_loss', patience=5, restore_best_weights=True)\n",
    "reduce_lr = ReduceLROnPlateau(monitor='val_loss', factor=0.5, patience=3, min_lr=1e-6)\n",
    "\n",
    "# Train the model\n",
    "history = cnn_model.fit(train_dataset, \n",
    "                          validation_data=val_dataset, \n",
    "                          epochs=30, \n",
    "                          batch_size=batch_size,\n",
    "                          callbacks=[early_stopping, reduce_lr])"
   ]
  },
  {
   "cell_type": "code",
   "execution_count": 8,
   "id": "a5e87fa8",
   "metadata": {
    "execution": {
     "iopub.execute_input": "2024-12-28T11:06:06.880643Z",
     "iopub.status.busy": "2024-12-28T11:06:06.880269Z",
     "iopub.status.idle": "2024-12-28T11:06:10.796940Z",
     "shell.execute_reply": "2024-12-28T11:06:10.795903Z"
    },
    "papermill": {
     "duration": 4.35925,
     "end_time": "2024-12-28T11:06:10.798424",
     "exception": false,
     "start_time": "2024-12-28T11:06:06.439174",
     "status": "completed"
    },
    "tags": []
   },
   "outputs": [
    {
     "name": "stdout",
     "output_type": "stream",
     "text": [
      "\u001b[1m51/51\u001b[0m \u001b[32m━━━━━━━━━━━━━━━━━━━━\u001b[0m\u001b[37m\u001b[0m \u001b[1m4s\u001b[0m 76ms/step - accuracy: 0.9257 - loss: 0.2614\n",
      "Test accuracy: 0.936527669429779\n",
      "Test loss: 0.2195313274860382\n"
     ]
    }
   ],
   "source": [
    "# Evaluate the model on the test dataset\n",
    "test_loss, test_accuracy = cnn_model.evaluate(test_dataset)\n",
    "print(f'Test accuracy: {test_accuracy}')\n",
    "print(f'Test loss: {test_loss}')"
   ]
  },
  {
   "cell_type": "markdown",
   "id": "31f7b2e3",
   "metadata": {
    "papermill": {
     "duration": 0.432992,
     "end_time": "2024-12-28T11:06:11.706298",
     "exception": false,
     "start_time": "2024-12-28T11:06:11.273306",
     "status": "completed"
    },
    "tags": []
   },
   "source": [
    "## "
   ]
  },
  {
   "cell_type": "markdown",
   "id": "df581044",
   "metadata": {
    "papermill": {
     "duration": 0.473563,
     "end_time": "2024-12-28T11:06:12.612275",
     "exception": false,
     "start_time": "2024-12-28T11:06:12.138712",
     "status": "completed"
    },
    "tags": []
   },
   "source": [
    "## Trial 2: 4 Block"
   ]
  },
  {
   "cell_type": "code",
   "execution_count": 9,
   "id": "c5e56786",
   "metadata": {
    "execution": {
     "iopub.execute_input": "2024-12-28T11:06:13.481409Z",
     "iopub.status.busy": "2024-12-28T11:06:13.480908Z",
     "iopub.status.idle": "2024-12-28T11:06:13.537752Z",
     "shell.execute_reply": "2024-12-28T11:06:13.536842Z"
    },
    "papermill": {
     "duration": 0.493728,
     "end_time": "2024-12-28T11:06:13.539161",
     "exception": false,
     "start_time": "2024-12-28T11:06:13.045433",
     "status": "completed"
    },
    "tags": []
   },
   "outputs": [],
   "source": [
    "import tensorflow as tf\n",
    "from tensorflow.keras import layers, models\n",
    "\n",
    "# Function to build the Tomato Disease CNN\n",
    "def build_tomato_disease_cnn(input_shape, num_classes):\n",
    "    model = models.Sequential([\n",
    "        # Input Layer\n",
    "        layers.Input(shape=input_shape),\n",
    "        \n",
    "        # First Convolutional Layer\n",
    "        layers.Conv2D(filters=32, kernel_size=(3, 3), activation='relu'),\n",
    "        layers.MaxPooling2D((2, 2)),\n",
    "        \n",
    "        # Second Convolutional Layer\n",
    "        layers.Conv2D(filters=64, kernel_size=(3, 3), activation='relu'),\n",
    "        layers.MaxPooling2D((2, 2)),\n",
    "        \n",
    "        # Third Convolutional Layer\n",
    "        layers.Conv2D(filters=64, kernel_size=(3, 3), activation='relu'),\n",
    "        layers.MaxPooling2D((2, 2)),\n",
    "        \n",
    "        # Fourth Convolutional Layer\n",
    "        layers.Conv2D(filters=128, kernel_size=(3, 3), activation='relu'),\n",
    "        layers.MaxPooling2D((2, 2)),\n",
    "        \n",
    "        # Flatten the Output\n",
    "        layers.Flatten(),\n",
    "        \n",
    "        # Dropout Layer (50%)\n",
    "        layers.Dropout(0.5),\n",
    "        \n",
    "        # Fully Connected Dense Layer\n",
    "        layers.Dense(units=128, activation='relu'),\n",
    "        \n",
    "        # Dropout Layer (30%)\n",
    "        layers.Dropout(0.3),\n",
    "        \n",
    "        # Output Layer\n",
    "        layers.Dense(units=num_classes, activation='softmax')\n",
    "    ])\n",
    "    return model\n",
    "\n",
    "# Example Usage\n",
    "# Specify the input shape and number of classes\n",
    "input_shape = (256, 256, 3)  # Adjust according to your dataset (image height, width, channels)\n",
    "num_classes = 10             # Replace with the actual number of classes in your dataset\n",
    "\n",
    "# Build the model\n",
    "cnn_model_2 = build_tomato_disease_cnn(input_shape, num_classes)"
   ]
  },
  {
   "cell_type": "code",
   "execution_count": 10,
   "id": "12b3efc8",
   "metadata": {
    "execution": {
     "iopub.execute_input": "2024-12-28T11:06:14.450560Z",
     "iopub.status.busy": "2024-12-28T11:06:14.450187Z",
     "iopub.status.idle": "2024-12-28T11:14:12.288625Z",
     "shell.execute_reply": "2024-12-28T11:14:12.287832Z"
    },
    "papermill": {
     "duration": 478.272963,
     "end_time": "2024-12-28T11:14:12.290191",
     "exception": false,
     "start_time": "2024-12-28T11:06:14.017228",
     "status": "completed"
    },
    "tags": []
   },
   "outputs": [
    {
     "name": "stdout",
     "output_type": "stream",
     "text": [
      "Epoch 1/30\n",
      "\u001b[1m312/312\u001b[0m \u001b[32m━━━━━━━━━━━━━━━━━━━━\u001b[0m\u001b[37m\u001b[0m \u001b[1m26s\u001b[0m 70ms/step - accuracy: 0.2860 - loss: 1.9569 - val_accuracy: 0.7292 - val_loss: 0.8465 - learning_rate: 1.0000e-04\n",
      "Epoch 2/30\n",
      "\u001b[1m312/312\u001b[0m \u001b[32m━━━━━━━━━━━━━━━━━━━━\u001b[0m\u001b[37m\u001b[0m \u001b[1m18s\u001b[0m 58ms/step - accuracy: 0.6832 - loss: 0.9176 - val_accuracy: 0.8038 - val_loss: 0.5859 - learning_rate: 1.0000e-04\n",
      "Epoch 3/30\n",
      "\u001b[1m312/312\u001b[0m \u001b[32m━━━━━━━━━━━━━━━━━━━━\u001b[0m\u001b[37m\u001b[0m \u001b[1m18s\u001b[0m 58ms/step - accuracy: 0.7853 - loss: 0.6329 - val_accuracy: 0.8263 - val_loss: 0.5074 - learning_rate: 1.0000e-04\n",
      "Epoch 4/30\n",
      "\u001b[1m312/312\u001b[0m \u001b[32m━━━━━━━━━━━━━━━━━━━━\u001b[0m\u001b[37m\u001b[0m \u001b[1m18s\u001b[0m 58ms/step - accuracy: 0.8247 - loss: 0.5302 - val_accuracy: 0.8596 - val_loss: 0.4091 - learning_rate: 1.0000e-04\n",
      "Epoch 5/30\n",
      "\u001b[1m312/312\u001b[0m \u001b[32m━━━━━━━━━━━━━━━━━━━━\u001b[0m\u001b[37m\u001b[0m \u001b[1m18s\u001b[0m 58ms/step - accuracy: 0.8477 - loss: 0.4551 - val_accuracy: 0.8846 - val_loss: 0.3472 - learning_rate: 1.0000e-04\n",
      "Epoch 6/30\n",
      "\u001b[1m312/312\u001b[0m \u001b[32m━━━━━━━━━━━━━━━━━━━━\u001b[0m\u001b[37m\u001b[0m \u001b[1m18s\u001b[0m 58ms/step - accuracy: 0.8706 - loss: 0.3966 - val_accuracy: 0.8727 - val_loss: 0.3526 - learning_rate: 1.0000e-04\n",
      "Epoch 7/30\n",
      "\u001b[1m312/312\u001b[0m \u001b[32m━━━━━━━━━━━━━━━━━━━━\u001b[0m\u001b[37m\u001b[0m \u001b[1m18s\u001b[0m 59ms/step - accuracy: 0.8769 - loss: 0.3576 - val_accuracy: 0.8909 - val_loss: 0.3144 - learning_rate: 1.0000e-04\n",
      "Epoch 8/30\n",
      "\u001b[1m312/312\u001b[0m \u001b[32m━━━━━━━━━━━━━━━━━━━━\u001b[0m\u001b[37m\u001b[0m \u001b[1m18s\u001b[0m 58ms/step - accuracy: 0.8976 - loss: 0.3181 - val_accuracy: 0.8997 - val_loss: 0.2908 - learning_rate: 1.0000e-04\n",
      "Epoch 9/30\n",
      "\u001b[1m312/312\u001b[0m \u001b[32m━━━━━━━━━━━━━━━━━━━━\u001b[0m\u001b[37m\u001b[0m \u001b[1m18s\u001b[0m 58ms/step - accuracy: 0.9067 - loss: 0.2857 - val_accuracy: 0.8953 - val_loss: 0.2942 - learning_rate: 1.0000e-04\n",
      "Epoch 10/30\n",
      "\u001b[1m312/312\u001b[0m \u001b[32m━━━━━━━━━━━━━━━━━━━━\u001b[0m\u001b[37m\u001b[0m \u001b[1m18s\u001b[0m 58ms/step - accuracy: 0.9137 - loss: 0.2619 - val_accuracy: 0.9047 - val_loss: 0.2772 - learning_rate: 1.0000e-04\n",
      "Epoch 11/30\n",
      "\u001b[1m312/312\u001b[0m \u001b[32m━━━━━━━━━━━━━━━━━━━━\u001b[0m\u001b[37m\u001b[0m \u001b[1m18s\u001b[0m 58ms/step - accuracy: 0.9159 - loss: 0.2362 - val_accuracy: 0.9053 - val_loss: 0.2591 - learning_rate: 1.0000e-04\n",
      "Epoch 12/30\n",
      "\u001b[1m312/312\u001b[0m \u001b[32m━━━━━━━━━━━━━━━━━━━━\u001b[0m\u001b[37m\u001b[0m \u001b[1m18s\u001b[0m 58ms/step - accuracy: 0.9267 - loss: 0.2199 - val_accuracy: 0.9103 - val_loss: 0.2436 - learning_rate: 1.0000e-04\n",
      "Epoch 13/30\n",
      "\u001b[1m312/312\u001b[0m \u001b[32m━━━━━━━━━━━━━━━━━━━━\u001b[0m\u001b[37m\u001b[0m \u001b[1m18s\u001b[0m 58ms/step - accuracy: 0.9324 - loss: 0.1917 - val_accuracy: 0.9191 - val_loss: 0.2393 - learning_rate: 1.0000e-04\n",
      "Epoch 14/30\n",
      "\u001b[1m312/312\u001b[0m \u001b[32m━━━━━━━━━━━━━━━━━━━━\u001b[0m\u001b[37m\u001b[0m \u001b[1m18s\u001b[0m 58ms/step - accuracy: 0.9270 - loss: 0.2279 - val_accuracy: 0.9154 - val_loss: 0.2441 - learning_rate: 1.0000e-04\n",
      "Epoch 15/30\n",
      "\u001b[1m312/312\u001b[0m \u001b[32m━━━━━━━━━━━━━━━━━━━━\u001b[0m\u001b[37m\u001b[0m \u001b[1m18s\u001b[0m 58ms/step - accuracy: 0.9439 - loss: 0.1723 - val_accuracy: 0.9160 - val_loss: 0.2384 - learning_rate: 1.0000e-04\n",
      "Epoch 16/30\n",
      "\u001b[1m312/312\u001b[0m \u001b[32m━━━━━━━━━━━━━━━━━━━━\u001b[0m\u001b[37m\u001b[0m \u001b[1m18s\u001b[0m 58ms/step - accuracy: 0.9466 - loss: 0.1553 - val_accuracy: 0.9248 - val_loss: 0.2212 - learning_rate: 1.0000e-04\n",
      "Epoch 17/30\n",
      "\u001b[1m312/312\u001b[0m \u001b[32m━━━━━━━━━━━━━━━━━━━━\u001b[0m\u001b[37m\u001b[0m \u001b[1m18s\u001b[0m 58ms/step - accuracy: 0.9464 - loss: 0.1570 - val_accuracy: 0.9323 - val_loss: 0.1907 - learning_rate: 1.0000e-04\n",
      "Epoch 18/30\n",
      "\u001b[1m312/312\u001b[0m \u001b[32m━━━━━━━━━━━━━━━━━━━━\u001b[0m\u001b[37m\u001b[0m \u001b[1m18s\u001b[0m 58ms/step - accuracy: 0.9609 - loss: 0.1225 - val_accuracy: 0.9229 - val_loss: 0.2271 - learning_rate: 1.0000e-04\n",
      "Epoch 19/30\n",
      "\u001b[1m312/312\u001b[0m \u001b[32m━━━━━━━━━━━━━━━━━━━━\u001b[0m\u001b[37m\u001b[0m \u001b[1m18s\u001b[0m 58ms/step - accuracy: 0.9596 - loss: 0.1233 - val_accuracy: 0.9386 - val_loss: 0.1951 - learning_rate: 1.0000e-04\n",
      "Epoch 20/30\n",
      "\u001b[1m312/312\u001b[0m \u001b[32m━━━━━━━━━━━━━━━━━━━━\u001b[0m\u001b[37m\u001b[0m \u001b[1m18s\u001b[0m 58ms/step - accuracy: 0.9606 - loss: 0.1175 - val_accuracy: 0.9260 - val_loss: 0.2176 - learning_rate: 1.0000e-04\n",
      "Epoch 21/30\n",
      "\u001b[1m312/312\u001b[0m \u001b[32m━━━━━━━━━━━━━━━━━━━━\u001b[0m\u001b[37m\u001b[0m \u001b[1m18s\u001b[0m 58ms/step - accuracy: 0.9682 - loss: 0.0966 - val_accuracy: 0.9404 - val_loss: 0.1850 - learning_rate: 5.0000e-05\n",
      "Epoch 22/30\n",
      "\u001b[1m312/312\u001b[0m \u001b[32m━━━━━━━━━━━━━━━━━━━━\u001b[0m\u001b[37m\u001b[0m \u001b[1m18s\u001b[0m 58ms/step - accuracy: 0.9747 - loss: 0.0768 - val_accuracy: 0.9373 - val_loss: 0.1885 - learning_rate: 5.0000e-05\n",
      "Epoch 23/30\n",
      "\u001b[1m312/312\u001b[0m \u001b[32m━━━━━━━━━━━━━━━━━━━━\u001b[0m\u001b[37m\u001b[0m \u001b[1m18s\u001b[0m 58ms/step - accuracy: 0.9770 - loss: 0.0741 - val_accuracy: 0.9417 - val_loss: 0.1880 - learning_rate: 5.0000e-05\n",
      "Epoch 24/30\n",
      "\u001b[1m312/312\u001b[0m \u001b[32m━━━━━━━━━━━━━━━━━━━━\u001b[0m\u001b[37m\u001b[0m \u001b[1m18s\u001b[0m 58ms/step - accuracy: 0.9714 - loss: 0.0822 - val_accuracy: 0.9241 - val_loss: 0.2326 - learning_rate: 5.0000e-05\n",
      "Epoch 25/30\n",
      "\u001b[1m312/312\u001b[0m \u001b[32m━━━━━━━━━━━━━━━━━━━━\u001b[0m\u001b[37m\u001b[0m \u001b[1m18s\u001b[0m 58ms/step - accuracy: 0.9822 - loss: 0.0622 - val_accuracy: 0.9429 - val_loss: 0.1857 - learning_rate: 2.5000e-05\n",
      "Epoch 26/30\n",
      "\u001b[1m312/312\u001b[0m \u001b[32m━━━━━━━━━━━━━━━━━━━━\u001b[0m\u001b[37m\u001b[0m \u001b[1m18s\u001b[0m 58ms/step - accuracy: 0.9814 - loss: 0.0550 - val_accuracy: 0.9423 - val_loss: 0.1958 - learning_rate: 2.5000e-05\n"
     ]
    }
   ],
   "source": [
    "from tensorflow.keras.callbacks import EarlyStopping, ReduceLROnPlateau\n",
    "\n",
    "# Compile the model with learning rate 0.0001\n",
    "optimizer = optimizers.Adam(learning_rate=0.0001)\n",
    "cnn_model_2.compile(optimizer=optimizer,\n",
    "                loss='sparse_categorical_crossentropy',\n",
    "                metrics=['accuracy'])\n",
    "\n",
    "# Callbacks for early stopping and learning rate reduction\n",
    "early_stopping = EarlyStopping(monitor='val_loss', patience=5, restore_best_weights=True)\n",
    "reduce_lr = ReduceLROnPlateau(monitor='val_loss', factor=0.5, patience=3, min_lr=1e-6)\n",
    "\n",
    "# Train the model\n",
    "history = cnn_model_2.fit(train_dataset, \n",
    "                          validation_data=val_dataset, \n",
    "                          epochs=30, \n",
    "                          batch_size=batch_size,\n",
    "                          callbacks=[early_stopping, reduce_lr])"
   ]
  },
  {
   "cell_type": "code",
   "execution_count": 11,
   "id": "c2f99f5e",
   "metadata": {
    "execution": {
     "iopub.execute_input": "2024-12-28T11:14:14.027264Z",
     "iopub.status.busy": "2024-12-28T11:14:14.026920Z",
     "iopub.status.idle": "2024-12-28T11:14:15.982260Z",
     "shell.execute_reply": "2024-12-28T11:14:15.981406Z"
    },
    "papermill": {
     "duration": 2.791139,
     "end_time": "2024-12-28T11:14:15.983447",
     "exception": false,
     "start_time": "2024-12-28T11:14:13.192308",
     "status": "completed"
    },
    "tags": []
   },
   "outputs": [
    {
     "name": "stdout",
     "output_type": "stream",
     "text": [
      "\u001b[1m51/51\u001b[0m \u001b[32m━━━━━━━━━━━━━━━━━━━━\u001b[0m\u001b[37m\u001b[0m \u001b[1m2s\u001b[0m 38ms/step - accuracy: 0.9440 - loss: 0.1856\n",
      "Test accuracy: 0.9502177834510803\n",
      "Test loss: 0.1624944806098938\n"
     ]
    }
   ],
   "source": [
    "# Evaluate the model on the test dataset\n",
    "test_loss, test_accuracy = cnn_model_2.evaluate(test_dataset)\n",
    "print(f'Test accuracy: {test_accuracy}')\n",
    "print(f'Test loss: {test_loss}')"
   ]
  },
  {
   "cell_type": "markdown",
   "id": "f225186f",
   "metadata": {
    "papermill": {
     "duration": 0.903053,
     "end_time": "2024-12-28T11:14:17.762243",
     "exception": false,
     "start_time": "2024-12-28T11:14:16.859190",
     "status": "completed"
    },
    "tags": []
   },
   "source": [
    "## Trial 3: 5 Block"
   ]
  },
  {
   "cell_type": "code",
   "execution_count": 12,
   "id": "46bff230",
   "metadata": {
    "execution": {
     "iopub.execute_input": "2024-12-28T11:14:19.513748Z",
     "iopub.status.busy": "2024-12-28T11:14:19.513230Z",
     "iopub.status.idle": "2024-12-28T11:14:19.576126Z",
     "shell.execute_reply": "2024-12-28T11:14:19.575477Z"
    },
    "papermill": {
     "duration": 0.938303,
     "end_time": "2024-12-28T11:14:19.577278",
     "exception": false,
     "start_time": "2024-12-28T11:14:18.638975",
     "status": "completed"
    },
    "tags": []
   },
   "outputs": [],
   "source": [
    "import tensorflow as tf\n",
    "from tensorflow.keras import layers, models\n",
    "\n",
    "# Function to build the Tomato Disease CNN\n",
    "def build_tomato_disease_cnn(input_shape, num_classes):\n",
    "    model = models.Sequential([\n",
    "        # Input Layer\n",
    "        layers.Input(shape=input_shape),\n",
    "        \n",
    "        # First Convolutional Layer\n",
    "        layers.Conv2D(filters=32, kernel_size=(3, 3), activation='relu'),\n",
    "        layers.MaxPooling2D((2, 2)),\n",
    "        \n",
    "        # Second Convolutional Layer\n",
    "        layers.Conv2D(filters=64, kernel_size=(3, 3), activation='relu'),\n",
    "        layers.MaxPooling2D((2, 2)),\n",
    "        \n",
    "        # Third Convolutional Layer\n",
    "        layers.Conv2D(filters=64, kernel_size=(3, 3), activation='relu'),\n",
    "        layers.MaxPooling2D((2, 2)),\n",
    "        \n",
    "        # Fourth Convolutional Layer\n",
    "        layers.Conv2D(filters=128, kernel_size=(3, 3), activation='relu'),\n",
    "        layers.MaxPooling2D((2, 2)),\n",
    "        \n",
    "        # Fifth Convolutional Layer\n",
    "        layers.Conv2D(filters=128, kernel_size=(3, 3), activation='relu'),\n",
    "        layers.MaxPooling2D((2, 2)),\n",
    "        \n",
    "        # Flatten the Output\n",
    "        layers.Flatten(),\n",
    "        \n",
    "        # Dropout Layer (50%)\n",
    "        layers.Dropout(0.5),\n",
    "        \n",
    "        # Fully Connected Dense Layer\n",
    "        layers.Dense(units=128, activation='relu'),\n",
    "        \n",
    "        # Dropout Layer (30%)\n",
    "        layers.Dropout(0.3),\n",
    "        \n",
    "        # Output Layer\n",
    "        layers.Dense(units=num_classes, activation='softmax')\n",
    "    ])\n",
    "    return model\n",
    "\n",
    "input_shape = (256, 256, 3)  # Adjust according to your dataset (image height, width, channels)\n",
    "num_classes = 10             # Replace with the actual number of classes in your dataset\n",
    "\n",
    "# Build the model\n",
    "cnn_model_3 = build_tomato_disease_cnn(input_shape, num_classes)"
   ]
  },
  {
   "cell_type": "code",
   "execution_count": 13,
   "id": "16160fbe",
   "metadata": {
    "execution": {
     "iopub.execute_input": "2024-12-28T11:14:21.340754Z",
     "iopub.status.busy": "2024-12-28T11:14:21.340385Z",
     "iopub.status.idle": "2024-12-28T11:23:38.107140Z",
     "shell.execute_reply": "2024-12-28T11:23:38.106356Z"
    },
    "papermill": {
     "duration": 557.656275,
     "end_time": "2024-12-28T11:23:38.108575",
     "exception": false,
     "start_time": "2024-12-28T11:14:20.452300",
     "status": "completed"
    },
    "tags": []
   },
   "outputs": [
    {
     "name": "stdout",
     "output_type": "stream",
     "text": [
      "Epoch 1/30\n",
      "\u001b[1m312/312\u001b[0m \u001b[32m━━━━━━━━━━━━━━━━━━━━\u001b[0m\u001b[37m\u001b[0m \u001b[1m26s\u001b[0m 70ms/step - accuracy: 0.1698 - loss: 2.1671 - val_accuracy: 0.5912 - val_loss: 1.3042 - learning_rate: 1.0000e-04\n",
      "Epoch 2/30\n",
      "\u001b[1m312/312\u001b[0m \u001b[32m━━━━━━━━━━━━━━━━━━━━\u001b[0m\u001b[37m\u001b[0m \u001b[1m19s\u001b[0m 59ms/step - accuracy: 0.5766 - loss: 1.2267 - val_accuracy: 0.7436 - val_loss: 0.7954 - learning_rate: 1.0000e-04\n",
      "Epoch 3/30\n",
      "\u001b[1m312/312\u001b[0m \u001b[32m━━━━━━━━━━━━━━━━━━━━\u001b[0m\u001b[37m\u001b[0m \u001b[1m18s\u001b[0m 59ms/step - accuracy: 0.7085 - loss: 0.8515 - val_accuracy: 0.8038 - val_loss: 0.5969 - learning_rate: 1.0000e-04\n",
      "Epoch 4/30\n",
      "\u001b[1m312/312\u001b[0m \u001b[32m━━━━━━━━━━━━━━━━━━━━\u001b[0m\u001b[37m\u001b[0m \u001b[1m18s\u001b[0m 58ms/step - accuracy: 0.7562 - loss: 0.6970 - val_accuracy: 0.8213 - val_loss: 0.5376 - learning_rate: 1.0000e-04\n",
      "Epoch 5/30\n",
      "\u001b[1m312/312\u001b[0m \u001b[32m━━━━━━━━━━━━━━━━━━━━\u001b[0m\u001b[37m\u001b[0m \u001b[1m18s\u001b[0m 58ms/step - accuracy: 0.7782 - loss: 0.6196 - val_accuracy: 0.8470 - val_loss: 0.4615 - learning_rate: 1.0000e-04\n",
      "Epoch 6/30\n",
      "\u001b[1m312/312\u001b[0m \u001b[32m━━━━━━━━━━━━━━━━━━━━\u001b[0m\u001b[37m\u001b[0m \u001b[1m18s\u001b[0m 59ms/step - accuracy: 0.8151 - loss: 0.5379 - val_accuracy: 0.8520 - val_loss: 0.4317 - learning_rate: 1.0000e-04\n",
      "Epoch 7/30\n",
      "\u001b[1m312/312\u001b[0m \u001b[32m━━━━━━━━━━━━━━━━━━━━\u001b[0m\u001b[37m\u001b[0m \u001b[1m18s\u001b[0m 59ms/step - accuracy: 0.8364 - loss: 0.4815 - val_accuracy: 0.8740 - val_loss: 0.3831 - learning_rate: 1.0000e-04\n",
      "Epoch 8/30\n",
      "\u001b[1m312/312\u001b[0m \u001b[32m━━━━━━━━━━━━━━━━━━━━\u001b[0m\u001b[37m\u001b[0m \u001b[1m18s\u001b[0m 58ms/step - accuracy: 0.8491 - loss: 0.4502 - val_accuracy: 0.8765 - val_loss: 0.3599 - learning_rate: 1.0000e-04\n",
      "Epoch 9/30\n",
      "\u001b[1m312/312\u001b[0m \u001b[32m━━━━━━━━━━━━━━━━━━━━\u001b[0m\u001b[37m\u001b[0m \u001b[1m18s\u001b[0m 58ms/step - accuracy: 0.8619 - loss: 0.4156 - val_accuracy: 0.8771 - val_loss: 0.3654 - learning_rate: 1.0000e-04\n",
      "Epoch 10/30\n",
      "\u001b[1m312/312\u001b[0m \u001b[32m━━━━━━━━━━━━━━━━━━━━\u001b[0m\u001b[37m\u001b[0m \u001b[1m18s\u001b[0m 59ms/step - accuracy: 0.8698 - loss: 0.3701 - val_accuracy: 0.8915 - val_loss: 0.3184 - learning_rate: 1.0000e-04\n",
      "Epoch 11/30\n",
      "\u001b[1m312/312\u001b[0m \u001b[32m━━━━━━━━━━━━━━━━━━━━\u001b[0m\u001b[37m\u001b[0m \u001b[1m18s\u001b[0m 59ms/step - accuracy: 0.8725 - loss: 0.3708 - val_accuracy: 0.9028 - val_loss: 0.2908 - learning_rate: 1.0000e-04\n",
      "Epoch 12/30\n",
      "\u001b[1m312/312\u001b[0m \u001b[32m━━━━━━━━━━━━━━━━━━━━\u001b[0m\u001b[37m\u001b[0m \u001b[1m18s\u001b[0m 58ms/step - accuracy: 0.8853 - loss: 0.3376 - val_accuracy: 0.8928 - val_loss: 0.3199 - learning_rate: 1.0000e-04\n",
      "Epoch 13/30\n",
      "\u001b[1m312/312\u001b[0m \u001b[32m━━━━━━━━━━━━━━━━━━━━\u001b[0m\u001b[37m\u001b[0m \u001b[1m18s\u001b[0m 58ms/step - accuracy: 0.8869 - loss: 0.3318 - val_accuracy: 0.9003 - val_loss: 0.2875 - learning_rate: 1.0000e-04\n",
      "Epoch 14/30\n",
      "\u001b[1m312/312\u001b[0m \u001b[32m━━━━━━━━━━━━━━━━━━━━\u001b[0m\u001b[37m\u001b[0m \u001b[1m18s\u001b[0m 58ms/step - accuracy: 0.9071 - loss: 0.2798 - val_accuracy: 0.8972 - val_loss: 0.2874 - learning_rate: 1.0000e-04\n",
      "Epoch 15/30\n",
      "\u001b[1m312/312\u001b[0m \u001b[32m━━━━━━━━━━━━━━━━━━━━\u001b[0m\u001b[37m\u001b[0m \u001b[1m18s\u001b[0m 58ms/step - accuracy: 0.9064 - loss: 0.2763 - val_accuracy: 0.9116 - val_loss: 0.2633 - learning_rate: 1.0000e-04\n",
      "Epoch 16/30\n",
      "\u001b[1m312/312\u001b[0m \u001b[32m━━━━━━━━━━━━━━━━━━━━\u001b[0m\u001b[37m\u001b[0m \u001b[1m18s\u001b[0m 58ms/step - accuracy: 0.9113 - loss: 0.2601 - val_accuracy: 0.9154 - val_loss: 0.2455 - learning_rate: 1.0000e-04\n",
      "Epoch 17/30\n",
      "\u001b[1m312/312\u001b[0m \u001b[32m━━━━━━━━━━━━━━━━━━━━\u001b[0m\u001b[37m\u001b[0m \u001b[1m18s\u001b[0m 59ms/step - accuracy: 0.9108 - loss: 0.2639 - val_accuracy: 0.9147 - val_loss: 0.2454 - learning_rate: 1.0000e-04\n",
      "Epoch 18/30\n",
      "\u001b[1m312/312\u001b[0m \u001b[32m━━━━━━━━━━━━━━━━━━━━\u001b[0m\u001b[37m\u001b[0m \u001b[1m18s\u001b[0m 58ms/step - accuracy: 0.9178 - loss: 0.2392 - val_accuracy: 0.9103 - val_loss: 0.2574 - learning_rate: 1.0000e-04\n",
      "Epoch 19/30\n",
      "\u001b[1m312/312\u001b[0m \u001b[32m━━━━━━━━━━━━━━━━━━━━\u001b[0m\u001b[37m\u001b[0m \u001b[1m18s\u001b[0m 59ms/step - accuracy: 0.9197 - loss: 0.2282 - val_accuracy: 0.9141 - val_loss: 0.2522 - learning_rate: 1.0000e-04\n",
      "Epoch 20/30\n",
      "\u001b[1m312/312\u001b[0m \u001b[32m━━━━━━━━━━━━━━━━━━━━\u001b[0m\u001b[37m\u001b[0m \u001b[1m18s\u001b[0m 59ms/step - accuracy: 0.9354 - loss: 0.1967 - val_accuracy: 0.9292 - val_loss: 0.2069 - learning_rate: 5.0000e-05\n",
      "Epoch 21/30\n",
      "\u001b[1m312/312\u001b[0m \u001b[32m━━━━━━━━━━━━━━━━━━━━\u001b[0m\u001b[37m\u001b[0m \u001b[1m18s\u001b[0m 59ms/step - accuracy: 0.9415 - loss: 0.1735 - val_accuracy: 0.9292 - val_loss: 0.2015 - learning_rate: 5.0000e-05\n",
      "Epoch 22/30\n",
      "\u001b[1m312/312\u001b[0m \u001b[32m━━━━━━━━━━━━━━━━━━━━\u001b[0m\u001b[37m\u001b[0m \u001b[1m18s\u001b[0m 58ms/step - accuracy: 0.9398 - loss: 0.1676 - val_accuracy: 0.9279 - val_loss: 0.2058 - learning_rate: 5.0000e-05\n",
      "Epoch 23/30\n",
      "\u001b[1m312/312\u001b[0m \u001b[32m━━━━━━━━━━━━━━━━━━━━\u001b[0m\u001b[37m\u001b[0m \u001b[1m19s\u001b[0m 60ms/step - accuracy: 0.9507 - loss: 0.1508 - val_accuracy: 0.9292 - val_loss: 0.2067 - learning_rate: 5.0000e-05\n",
      "Epoch 24/30\n",
      "\u001b[1m312/312\u001b[0m \u001b[32m━━━━━━━━━━━━━━━━━━━━\u001b[0m\u001b[37m\u001b[0m \u001b[1m18s\u001b[0m 58ms/step - accuracy: 0.9434 - loss: 0.1550 - val_accuracy: 0.9317 - val_loss: 0.2025 - learning_rate: 5.0000e-05\n",
      "Epoch 25/30\n",
      "\u001b[1m312/312\u001b[0m \u001b[32m━━━━━━━━━━━━━━━━━━━━\u001b[0m\u001b[37m\u001b[0m \u001b[1m18s\u001b[0m 58ms/step - accuracy: 0.9524 - loss: 0.1374 - val_accuracy: 0.9361 - val_loss: 0.1937 - learning_rate: 2.5000e-05\n",
      "Epoch 26/30\n",
      "\u001b[1m312/312\u001b[0m \u001b[32m━━━━━━━━━━━━━━━━━━━━\u001b[0m\u001b[37m\u001b[0m \u001b[1m18s\u001b[0m 59ms/step - accuracy: 0.9537 - loss: 0.1342 - val_accuracy: 0.9329 - val_loss: 0.1996 - learning_rate: 2.5000e-05\n",
      "Epoch 27/30\n",
      "\u001b[1m312/312\u001b[0m \u001b[32m━━━━━━━━━━━━━━━━━━━━\u001b[0m\u001b[37m\u001b[0m \u001b[1m18s\u001b[0m 58ms/step - accuracy: 0.9607 - loss: 0.1221 - val_accuracy: 0.9335 - val_loss: 0.1963 - learning_rate: 2.5000e-05\n",
      "Epoch 28/30\n",
      "\u001b[1m312/312\u001b[0m \u001b[32m━━━━━━━━━━━━━━━━━━━━\u001b[0m\u001b[37m\u001b[0m \u001b[1m18s\u001b[0m 59ms/step - accuracy: 0.9564 - loss: 0.1216 - val_accuracy: 0.9348 - val_loss: 0.1867 - learning_rate: 2.5000e-05\n",
      "Epoch 29/30\n",
      "\u001b[1m312/312\u001b[0m \u001b[32m━━━━━━━━━━━━━━━━━━━━\u001b[0m\u001b[37m\u001b[0m \u001b[1m18s\u001b[0m 59ms/step - accuracy: 0.9573 - loss: 0.1255 - val_accuracy: 0.9398 - val_loss: 0.1911 - learning_rate: 2.5000e-05\n",
      "Epoch 30/30\n",
      "\u001b[1m312/312\u001b[0m \u001b[32m━━━━━━━━━━━━━━━━━━━━\u001b[0m\u001b[37m\u001b[0m \u001b[1m18s\u001b[0m 59ms/step - accuracy: 0.9583 - loss: 0.1275 - val_accuracy: 0.9367 - val_loss: 0.2018 - learning_rate: 2.5000e-05\n"
     ]
    }
   ],
   "source": [
    "from tensorflow.keras.callbacks import EarlyStopping, ReduceLROnPlateau\n",
    "\n",
    "# Compile the model with learning rate 0.0001\n",
    "optimizer = optimizers.Adam(learning_rate=0.0001)\n",
    "cnn_model_3.compile(optimizer=optimizer,\n",
    "                loss='sparse_categorical_crossentropy',\n",
    "                metrics=['accuracy'])\n",
    "\n",
    "# Callbacks for early stopping and learning rate reduction\n",
    "early_stopping = EarlyStopping(monitor='val_loss', patience=5, restore_best_weights=True)\n",
    "reduce_lr = ReduceLROnPlateau(monitor='val_loss', factor=0.5, patience=3, min_lr=1e-6)\n",
    "\n",
    "# Train the model\n",
    "history = cnn_model_3.fit(train_dataset, \n",
    "                          validation_data=val_dataset, \n",
    "                          epochs=30, \n",
    "                          batch_size=batch_size,\n",
    "                          callbacks=[early_stopping, reduce_lr])"
   ]
  },
  {
   "cell_type": "code",
   "execution_count": 14,
   "id": "a9295ec2",
   "metadata": {
    "execution": {
     "iopub.execute_input": "2024-12-28T11:23:40.828319Z",
     "iopub.status.busy": "2024-12-28T11:23:40.827947Z",
     "iopub.status.idle": "2024-12-28T11:23:42.739057Z",
     "shell.execute_reply": "2024-12-28T11:23:42.738148Z"
    },
    "papermill": {
     "duration": 3.216407,
     "end_time": "2024-12-28T11:23:42.740476",
     "exception": false,
     "start_time": "2024-12-28T11:23:39.524069",
     "status": "completed"
    },
    "tags": []
   },
   "outputs": [
    {
     "name": "stdout",
     "output_type": "stream",
     "text": [
      "\u001b[1m51/51\u001b[0m \u001b[32m━━━━━━━━━━━━━━━━━━━━\u001b[0m\u001b[37m\u001b[0m \u001b[1m2s\u001b[0m 37ms/step - accuracy: 0.9378 - loss: 0.1698\n",
      "Test accuracy: 0.94772869348526\n",
      "Test loss: 0.14866694808006287\n"
     ]
    }
   ],
   "source": [
    "# Evaluate the model on the test dataset\n",
    "test_loss, test_accuracy = cnn_model_3.evaluate(test_dataset)\n",
    "print(f'Test accuracy: {test_accuracy}')\n",
    "print(f'Test loss: {test_loss}')"
   ]
  },
  {
   "cell_type": "markdown",
   "id": "c755f33a",
   "metadata": {
    "papermill": {
     "duration": 1.44507,
     "end_time": "2024-12-28T11:23:45.532547",
     "exception": false,
     "start_time": "2024-12-28T11:23:44.087477",
     "status": "completed"
    },
    "tags": []
   },
   "source": [
    "# SA-CNN"
   ]
  },
  {
   "cell_type": "markdown",
   "id": "dc2fcda6",
   "metadata": {
    "papermill": {
     "duration": 1.335766,
     "end_time": "2024-12-28T11:23:48.158825",
     "exception": false,
     "start_time": "2024-12-28T11:23:46.823059",
     "status": "completed"
    },
    "tags": []
   },
   "source": [
    "## Trial 1: Without Attention Layer"
   ]
  },
  {
   "cell_type": "code",
   "execution_count": 15,
   "id": "67418cfa",
   "metadata": {
    "execution": {
     "iopub.execute_input": "2024-12-28T11:23:50.855596Z",
     "iopub.status.busy": "2024-12-28T11:23:50.855259Z",
     "iopub.status.idle": "2024-12-28T11:23:51.122363Z",
     "shell.execute_reply": "2024-12-28T11:23:51.121449Z"
    },
    "papermill": {
     "duration": 1.568677,
     "end_time": "2024-12-28T11:23:51.123973",
     "exception": false,
     "start_time": "2024-12-28T11:23:49.555296",
     "status": "completed"
    },
    "tags": []
   },
   "outputs": [],
   "source": [
    "import tensorflow as tf\n",
    "from tensorflow.keras import layers, models, optimizers\n",
    "from tensorflow.keras.callbacks import EarlyStopping, ReduceLROnPlateau\n",
    "\n",
    "# Define the Self-Attention Convolutional Neural Network (SA-CNN) model\n",
    "def build_sacnn_model(input_shape, num_classes):\n",
    "    inputs = layers.Input(shape=input_shape)\n",
    "\n",
    "    # Convolutional Block 1\n",
    "    x = layers.Conv2D(32, (3, 3), activation='relu', padding='same')(inputs)\n",
    "    x = layers.MaxPooling2D((2, 2))(x)\n",
    "\n",
    "    # Convolutional Block 2\n",
    "    x = layers.Conv2D(64, (3, 3), activation='relu', padding='same')(x)\n",
    "    x = layers.MaxPooling2D((2, 2))(x)\n",
    "\n",
    "    # Convolutional Block 3\n",
    "    x = layers.Conv2D(128, (3, 3), activation='relu', padding='same')(x)\n",
    "    x = layers.MaxPooling2D((2, 2))(x)\n",
    "\n",
    "    # Self-Attention Layer\n",
    "    attention_output = layers.MultiHeadAttention(num_heads=4, key_dim=128)(x, x)\n",
    "    x = layers.Add()([x, attention_output])  # Residual connection\n",
    "\n",
    "    # Fully Connected Layer\n",
    "    x = layers.GlobalAveragePooling2D()(x)\n",
    "    x = layers.Dense(128, activation=\"relu\")(x)\n",
    "    outputs = layers.Dense(num_classes, activation='softmax')(x)\n",
    "\n",
    "    # Create model\n",
    "    model = models.Model(inputs=inputs, outputs=outputs)\n",
    "    return model\n",
    "\n",
    "# Initialize and compile the model\n",
    "sa_cnn_model = build_sacnn_model(input_shape, num_classes)"
   ]
  },
  {
   "cell_type": "code",
   "execution_count": 16,
   "id": "4ff363b7",
   "metadata": {
    "execution": {
     "iopub.execute_input": "2024-12-28T11:23:53.960077Z",
     "iopub.status.busy": "2024-12-28T11:23:53.959739Z",
     "iopub.status.idle": "2024-12-28T11:57:23.247147Z",
     "shell.execute_reply": "2024-12-28T11:57:23.246185Z"
    },
    "papermill": {
     "duration": 2012.512172,
     "end_time": "2024-12-28T11:57:25.052813",
     "exception": false,
     "start_time": "2024-12-28T11:23:52.540641",
     "status": "completed"
    },
    "tags": []
   },
   "outputs": [
    {
     "name": "stdout",
     "output_type": "stream",
     "text": [
      "Epoch 1/30\n",
      "\u001b[1m312/312\u001b[0m \u001b[32m━━━━━━━━━━━━━━━━━━━━\u001b[0m\u001b[37m\u001b[0m \u001b[1m92s\u001b[0m 254ms/step - accuracy: 0.1613 - loss: 2.2019 - val_accuracy: 0.4025 - val_loss: 1.6807 - learning_rate: 1.0000e-04\n",
      "Epoch 2/30\n",
      "\u001b[1m312/312\u001b[0m \u001b[32m━━━━━━━━━━━━━━━━━━━━\u001b[0m\u001b[37m\u001b[0m \u001b[1m66s\u001b[0m 211ms/step - accuracy: 0.3960 - loss: 1.6215 - val_accuracy: 0.4571 - val_loss: 1.5037 - learning_rate: 1.0000e-04\n",
      "Epoch 3/30\n",
      "\u001b[1m312/312\u001b[0m \u001b[32m━━━━━━━━━━━━━━━━━━━━\u001b[0m\u001b[37m\u001b[0m \u001b[1m66s\u001b[0m 212ms/step - accuracy: 0.4785 - loss: 1.4242 - val_accuracy: 0.4508 - val_loss: 1.4865 - learning_rate: 1.0000e-04\n",
      "Epoch 4/30\n",
      "\u001b[1m312/312\u001b[0m \u001b[32m━━━━━━━━━━━━━━━━━━━━\u001b[0m\u001b[37m\u001b[0m \u001b[1m66s\u001b[0m 212ms/step - accuracy: 0.5709 - loss: 1.2370 - val_accuracy: 0.6044 - val_loss: 1.1179 - learning_rate: 1.0000e-04\n",
      "Epoch 5/30\n",
      "\u001b[1m312/312\u001b[0m \u001b[32m━━━━━━━━━━━━━━━━━━━━\u001b[0m\u001b[37m\u001b[0m \u001b[1m66s\u001b[0m 212ms/step - accuracy: 0.6226 - loss: 1.0507 - val_accuracy: 0.6652 - val_loss: 0.9511 - learning_rate: 1.0000e-04\n",
      "Epoch 6/30\n",
      "\u001b[1m312/312\u001b[0m \u001b[32m━━━━━━━━━━━━━━━━━━━━\u001b[0m\u001b[37m\u001b[0m \u001b[1m66s\u001b[0m 212ms/step - accuracy: 0.6863 - loss: 0.8965 - val_accuracy: 0.6922 - val_loss: 0.8465 - learning_rate: 1.0000e-04\n",
      "Epoch 7/30\n",
      "\u001b[1m312/312\u001b[0m \u001b[32m━━━━━━━━━━━━━━━━━━━━\u001b[0m\u001b[37m\u001b[0m \u001b[1m66s\u001b[0m 212ms/step - accuracy: 0.7229 - loss: 0.7961 - val_accuracy: 0.6903 - val_loss: 0.8573 - learning_rate: 1.0000e-04\n",
      "Epoch 8/30\n",
      "\u001b[1m312/312\u001b[0m \u001b[32m━━━━━━━━━━━━━━━━━━━━\u001b[0m\u001b[37m\u001b[0m \u001b[1m66s\u001b[0m 212ms/step - accuracy: 0.7408 - loss: 0.7323 - val_accuracy: 0.7524 - val_loss: 0.6947 - learning_rate: 1.0000e-04\n",
      "Epoch 9/30\n",
      "\u001b[1m312/312\u001b[0m \u001b[32m━━━━━━━━━━━━━━━━━━━━\u001b[0m\u001b[37m\u001b[0m \u001b[1m66s\u001b[0m 212ms/step - accuracy: 0.7624 - loss: 0.6894 - val_accuracy: 0.7442 - val_loss: 0.7345 - learning_rate: 1.0000e-04\n",
      "Epoch 10/30\n",
      "\u001b[1m312/312\u001b[0m \u001b[32m━━━━━━━━━━━━━━━━━━━━\u001b[0m\u001b[37m\u001b[0m \u001b[1m66s\u001b[0m 212ms/step - accuracy: 0.7748 - loss: 0.6570 - val_accuracy: 0.7649 - val_loss: 0.6730 - learning_rate: 1.0000e-04\n",
      "Epoch 11/30\n",
      "\u001b[1m312/312\u001b[0m \u001b[32m━━━━━━━━━━━━━━━━━━━━\u001b[0m\u001b[37m\u001b[0m \u001b[1m66s\u001b[0m 212ms/step - accuracy: 0.7911 - loss: 0.6091 - val_accuracy: 0.7655 - val_loss: 0.6444 - learning_rate: 1.0000e-04\n",
      "Epoch 12/30\n",
      "\u001b[1m312/312\u001b[0m \u001b[32m━━━━━━━━━━━━━━━━━━━━\u001b[0m\u001b[37m\u001b[0m \u001b[1m66s\u001b[0m 212ms/step - accuracy: 0.7932 - loss: 0.5889 - val_accuracy: 0.8056 - val_loss: 0.5684 - learning_rate: 1.0000e-04\n",
      "Epoch 13/30\n",
      "\u001b[1m312/312\u001b[0m \u001b[32m━━━━━━━━━━━━━━━━━━━━\u001b[0m\u001b[37m\u001b[0m \u001b[1m66s\u001b[0m 212ms/step - accuracy: 0.8022 - loss: 0.5625 - val_accuracy: 0.8125 - val_loss: 0.5582 - learning_rate: 1.0000e-04\n",
      "Epoch 14/30\n",
      "\u001b[1m312/312\u001b[0m \u001b[32m━━━━━━━━━━━━━━━━━━━━\u001b[0m\u001b[37m\u001b[0m \u001b[1m66s\u001b[0m 212ms/step - accuracy: 0.8062 - loss: 0.5734 - val_accuracy: 0.8063 - val_loss: 0.5693 - learning_rate: 1.0000e-04\n",
      "Epoch 15/30\n",
      "\u001b[1m312/312\u001b[0m \u001b[32m━━━━━━━━━━━━━━━━━━━━\u001b[0m\u001b[37m\u001b[0m \u001b[1m66s\u001b[0m 212ms/step - accuracy: 0.8076 - loss: 0.5572 - val_accuracy: 0.8245 - val_loss: 0.5191 - learning_rate: 1.0000e-04\n",
      "Epoch 16/30\n",
      "\u001b[1m312/312\u001b[0m \u001b[32m━━━━━━━━━━━━━━━━━━━━\u001b[0m\u001b[37m\u001b[0m \u001b[1m66s\u001b[0m 212ms/step - accuracy: 0.8182 - loss: 0.5261 - val_accuracy: 0.8163 - val_loss: 0.5212 - learning_rate: 1.0000e-04\n",
      "Epoch 17/30\n",
      "\u001b[1m312/312\u001b[0m \u001b[32m━━━━━━━━━━━━━━━━━━━━\u001b[0m\u001b[37m\u001b[0m \u001b[1m66s\u001b[0m 212ms/step - accuracy: 0.8238 - loss: 0.5068 - val_accuracy: 0.8125 - val_loss: 0.5561 - learning_rate: 1.0000e-04\n",
      "Epoch 18/30\n",
      "\u001b[1m312/312\u001b[0m \u001b[32m━━━━━━━━━━━━━━━━━━━━\u001b[0m\u001b[37m\u001b[0m \u001b[1m66s\u001b[0m 212ms/step - accuracy: 0.8333 - loss: 0.4798 - val_accuracy: 0.8376 - val_loss: 0.4769 - learning_rate: 1.0000e-04\n",
      "Epoch 19/30\n",
      "\u001b[1m312/312\u001b[0m \u001b[32m━━━━━━━━━━━━━━━━━━━━\u001b[0m\u001b[37m\u001b[0m \u001b[1m66s\u001b[0m 212ms/step - accuracy: 0.8375 - loss: 0.4743 - val_accuracy: 0.8483 - val_loss: 0.4674 - learning_rate: 1.0000e-04\n",
      "Epoch 20/30\n",
      "\u001b[1m312/312\u001b[0m \u001b[32m━━━━━━━━━━━━━━━━━━━━\u001b[0m\u001b[37m\u001b[0m \u001b[1m66s\u001b[0m 212ms/step - accuracy: 0.8361 - loss: 0.4635 - val_accuracy: 0.8445 - val_loss: 0.4569 - learning_rate: 1.0000e-04\n",
      "Epoch 21/30\n",
      "\u001b[1m312/312\u001b[0m \u001b[32m━━━━━━━━━━━━━━━━━━━━\u001b[0m\u001b[37m\u001b[0m \u001b[1m66s\u001b[0m 212ms/step - accuracy: 0.8434 - loss: 0.4521 - val_accuracy: 0.8451 - val_loss: 0.4595 - learning_rate: 1.0000e-04\n",
      "Epoch 22/30\n",
      "\u001b[1m312/312\u001b[0m \u001b[32m━━━━━━━━━━━━━━━━━━━━\u001b[0m\u001b[37m\u001b[0m \u001b[1m66s\u001b[0m 212ms/step - accuracy: 0.8483 - loss: 0.4331 - val_accuracy: 0.8596 - val_loss: 0.4350 - learning_rate: 1.0000e-04\n",
      "Epoch 23/30\n",
      "\u001b[1m312/312\u001b[0m \u001b[32m━━━━━━━━━━━━━━━━━━━━\u001b[0m\u001b[37m\u001b[0m \u001b[1m66s\u001b[0m 212ms/step - accuracy: 0.8654 - loss: 0.4087 - val_accuracy: 0.8245 - val_loss: 0.5317 - learning_rate: 1.0000e-04\n",
      "Epoch 24/30\n",
      "\u001b[1m312/312\u001b[0m \u001b[32m━━━━━━━━━━━━━━━━━━━━\u001b[0m\u001b[37m\u001b[0m \u001b[1m66s\u001b[0m 212ms/step - accuracy: 0.8570 - loss: 0.4223 - val_accuracy: 0.8420 - val_loss: 0.4788 - learning_rate: 1.0000e-04\n",
      "Epoch 25/30\n",
      "\u001b[1m312/312\u001b[0m \u001b[32m━━━━━━━━━━━━━━━━━━━━\u001b[0m\u001b[37m\u001b[0m \u001b[1m66s\u001b[0m 212ms/step - accuracy: 0.8619 - loss: 0.4049 - val_accuracy: 0.8627 - val_loss: 0.4168 - learning_rate: 1.0000e-04\n",
      "Epoch 26/30\n",
      "\u001b[1m312/312\u001b[0m \u001b[32m━━━━━━━━━━━━━━━━━━━━\u001b[0m\u001b[37m\u001b[0m \u001b[1m66s\u001b[0m 212ms/step - accuracy: 0.8648 - loss: 0.3863 - val_accuracy: 0.8828 - val_loss: 0.3632 - learning_rate: 1.0000e-04\n",
      "Epoch 27/30\n",
      "\u001b[1m312/312\u001b[0m \u001b[32m━━━━━━━━━━━━━━━━━━━━\u001b[0m\u001b[37m\u001b[0m \u001b[1m66s\u001b[0m 212ms/step - accuracy: 0.8762 - loss: 0.3629 - val_accuracy: 0.8777 - val_loss: 0.3614 - learning_rate: 1.0000e-04\n",
      "Epoch 28/30\n",
      "\u001b[1m312/312\u001b[0m \u001b[32m━━━━━━━━━━━━━━━━━━━━\u001b[0m\u001b[37m\u001b[0m \u001b[1m66s\u001b[0m 212ms/step - accuracy: 0.8762 - loss: 0.3635 - val_accuracy: 0.8853 - val_loss: 0.3589 - learning_rate: 1.0000e-04\n",
      "Epoch 29/30\n",
      "\u001b[1m312/312\u001b[0m \u001b[32m━━━━━━━━━━━━━━━━━━━━\u001b[0m\u001b[37m\u001b[0m \u001b[1m66s\u001b[0m 212ms/step - accuracy: 0.8830 - loss: 0.3404 - val_accuracy: 0.8665 - val_loss: 0.4026 - learning_rate: 1.0000e-04\n",
      "Epoch 30/30\n",
      "\u001b[1m312/312\u001b[0m \u001b[32m━━━━━━━━━━━━━━━━━━━━\u001b[0m\u001b[37m\u001b[0m \u001b[1m66s\u001b[0m 212ms/step - accuracy: 0.8733 - loss: 0.3530 - val_accuracy: 0.8828 - val_loss: 0.3535 - learning_rate: 1.0000e-04\n"
     ]
    }
   ],
   "source": [
    "# Compile the model\n",
    "optimizer = optimizers.Adam(learning_rate=0.0001)\n",
    "sa_cnn_model.compile(\n",
    "    optimizer=optimizer, \n",
    "    loss=\"sparse_categorical_crossentropy\", \n",
    "    metrics=[\"accuracy\"]\n",
    ")\n",
    "\n",
    "# Define callbacks for early stopping and learning rate reduction\n",
    "early_stopping = EarlyStopping(\n",
    "    monitor=\"val_loss\", patience=5, restore_best_weights=True\n",
    ")\n",
    "reduce_lr = ReduceLROnPlateau(monitor=\"val_loss\", factor=0.5, patience=3, min_lr=1e-6)\n",
    "# Train the model on the dataset\n",
    "history = sa_cnn_model.fit(\n",
    "    train_dataset,\n",
    "    validation_data=val_dataset,\n",
    "    epochs=30,\n",
    "    callbacks=[early_stopping, reduce_lr],\n",
    ")"
   ]
  },
  {
   "cell_type": "code",
   "execution_count": 17,
   "id": "9b7b42d5",
   "metadata": {
    "execution": {
     "iopub.execute_input": "2024-12-28T11:57:28.814182Z",
     "iopub.status.busy": "2024-12-28T11:57:28.813885Z",
     "iopub.status.idle": "2024-12-28T11:57:33.706889Z",
     "shell.execute_reply": "2024-12-28T11:57:33.705855Z"
    },
    "papermill": {
     "duration": 6.785127,
     "end_time": "2024-12-28T11:57:33.708908",
     "exception": false,
     "start_time": "2024-12-28T11:57:26.923781",
     "status": "completed"
    },
    "tags": []
   },
   "outputs": [
    {
     "name": "stdout",
     "output_type": "stream",
     "text": [
      "\u001b[1m51/51\u001b[0m \u001b[32m━━━━━━━━━━━━━━━━━━━━\u001b[0m\u001b[37m\u001b[0m \u001b[1m5s\u001b[0m 96ms/step - accuracy: 0.8626 - loss: 0.3843\n",
      "Test accuracy: 0.873677670955658\n",
      "Test loss: 0.36159056425094604\n"
     ]
    }
   ],
   "source": [
    "# Evaluate the model on the test dataset\n",
    "test_loss, test_accuracy = sa_cnn_model.evaluate(test_dataset)\n",
    "print(f'Test accuracy: {test_accuracy}')\n",
    "print(f'Test loss: {test_loss}')"
   ]
  },
  {
   "cell_type": "markdown",
   "id": "97b7e441",
   "metadata": {
    "papermill": {
     "duration": 1.803674,
     "end_time": "2024-12-28T11:57:37.398253",
     "exception": false,
     "start_time": "2024-12-28T11:57:35.594579",
     "status": "completed"
    },
    "tags": []
   },
   "source": [
    "# PreTrained"
   ]
  },
  {
   "cell_type": "markdown",
   "id": "46582bb3",
   "metadata": {
    "papermill": {
     "duration": 1.795068,
     "end_time": "2024-12-28T11:57:40.985323",
     "exception": false,
     "start_time": "2024-12-28T11:57:39.190255",
     "status": "completed"
    },
    "tags": []
   },
   "source": [
    "## EfficientB0"
   ]
  },
  {
   "cell_type": "code",
   "execution_count": 18,
   "id": "090d0c97",
   "metadata": {
    "execution": {
     "iopub.execute_input": "2024-12-28T11:57:44.580006Z",
     "iopub.status.busy": "2024-12-28T11:57:44.579692Z",
     "iopub.status.idle": "2024-12-28T11:57:46.089611Z",
     "shell.execute_reply": "2024-12-28T11:57:46.088902Z"
    },
    "papermill": {
     "duration": 3.306474,
     "end_time": "2024-12-28T11:57:46.091159",
     "exception": false,
     "start_time": "2024-12-28T11:57:42.784685",
     "status": "completed"
    },
    "tags": []
   },
   "outputs": [
    {
     "name": "stdout",
     "output_type": "stream",
     "text": [
      "Downloading data from https://storage.googleapis.com/keras-applications/efficientnetb0_notop.h5\n",
      "\u001b[1m16705208/16705208\u001b[0m \u001b[32m━━━━━━━━━━━━━━━━━━━━\u001b[0m\u001b[37m\u001b[0m \u001b[1m0s\u001b[0m 0us/step\n"
     ]
    }
   ],
   "source": [
    "import tensorflow as tf\n",
    "from tensorflow.keras.applications import EfficientNetB0\n",
    "from tensorflow.keras import layers, models, optimizers\n",
    "\n",
    "def build_efficientnetb0_model(input_shape, num_classes):\n",
    "    # Define input layer\n",
    "    inputs = tf.keras.Input(shape=input_shape)\n",
    "\n",
    "    # Load the EfficientNetB0 model with pre-trained ImageNet weights, excluding the top layer\n",
    "    base_model = EfficientNetB0(weights='imagenet', include_top=False, input_tensor=inputs)\n",
    "    base_model.trainable = False  # Freeze the base model layers\n",
    "\n",
    "    # Add custom layers on top\n",
    "    x = base_model.output\n",
    "    x = layers.GlobalAveragePooling2D()(x)  # Add global average pooling layer\n",
    "    x = layers.Dropout(0.5)(x)  # Dropout layer to prevent overfitting\n",
    "    x = layers.Dense(128, activation='relu')(x)  # Fully connected layer\n",
    "    x = layers.Dropout(0.3)(x)  # Additional dropout layer\n",
    "\n",
    "    # Output layer with softmax activation for multi-class classification\n",
    "    outputs = layers.Dense(num_classes, activation='softmax')(x)\n",
    "\n",
    "    # Create the model\n",
    "    model = models.Model(inputs=inputs, outputs=outputs)\n",
    "\n",
    "    return model\n",
    "\n",
    "# Build the EfficientNetB0 model\n",
    "efficientnetb0_model = build_efficientnetb0_model(input_shape, num_classes)\n",
    "\n",
    "# Compile the model\n",
    "optimizer = optimizers.Adam(learning_rate=0.0001)\n",
    "\n",
    "efficientnetb0_model.compile(optimizer=optimizer, \n",
    "                             loss='sparse_categorical_crossentropy', \n",
    "                             metrics=['accuracy'])"
   ]
  },
  {
   "cell_type": "code",
   "execution_count": 19,
   "id": "56626665",
   "metadata": {
    "execution": {
     "iopub.execute_input": "2024-12-28T11:57:49.771457Z",
     "iopub.status.busy": "2024-12-28T11:57:49.771126Z",
     "iopub.status.idle": "2024-12-28T12:00:11.831177Z",
     "shell.execute_reply": "2024-12-28T12:00:11.830217Z"
    },
    "papermill": {
     "duration": 143.855092,
     "end_time": "2024-12-28T12:00:11.832838",
     "exception": false,
     "start_time": "2024-12-28T11:57:47.977746",
     "status": "completed"
    },
    "tags": []
   },
   "outputs": [
    {
     "name": "stdout",
     "output_type": "stream",
     "text": [
      "Epoch 1/30\n",
      "\u001b[1m312/312\u001b[0m \u001b[32m━━━━━━━━━━━━━━━━━━━━\u001b[0m\u001b[37m\u001b[0m \u001b[1m64s\u001b[0m 132ms/step - accuracy: 0.0960 - loss: 2.3061 - val_accuracy: 0.1110 - val_loss: 2.2949 - learning_rate: 1.0000e-04\n",
      "Epoch 2/30\n",
      "\u001b[1m312/312\u001b[0m \u001b[32m━━━━━━━━━━━━━━━━━━━━\u001b[0m\u001b[37m\u001b[0m \u001b[1m16s\u001b[0m 51ms/step - accuracy: 0.0953 - loss: 2.3064 - val_accuracy: 0.2006 - val_loss: 2.2954 - learning_rate: 1.0000e-04\n",
      "Epoch 3/30\n",
      "\u001b[1m312/312\u001b[0m \u001b[32m━━━━━━━━━━━━━━━━━━━━\u001b[0m\u001b[37m\u001b[0m \u001b[1m16s\u001b[0m 50ms/step - accuracy: 0.0966 - loss: 2.3042 - val_accuracy: 0.1110 - val_loss: 2.3017 - learning_rate: 1.0000e-04\n",
      "Epoch 4/30\n",
      "\u001b[1m312/312\u001b[0m \u001b[32m━━━━━━━━━━━━━━━━━━━━\u001b[0m\u001b[37m\u001b[0m \u001b[1m15s\u001b[0m 49ms/step - accuracy: 0.1017 - loss: 2.3036 - val_accuracy: 0.0596 - val_loss: 2.3020 - learning_rate: 1.0000e-04\n",
      "Epoch 5/30\n",
      "\u001b[1m312/312\u001b[0m \u001b[32m━━━━━━━━━━━━━━━━━━━━\u001b[0m\u001b[37m\u001b[0m \u001b[1m15s\u001b[0m 49ms/step - accuracy: 0.0980 - loss: 2.3042 - val_accuracy: 0.0596 - val_loss: 2.3029 - learning_rate: 5.0000e-05\n",
      "Epoch 6/30\n",
      "\u001b[1m312/312\u001b[0m \u001b[32m━━━━━━━━━━━━━━━━━━━━\u001b[0m\u001b[37m\u001b[0m \u001b[1m15s\u001b[0m 49ms/step - accuracy: 0.0914 - loss: 2.3035 - val_accuracy: 0.0596 - val_loss: 2.3028 - learning_rate: 5.0000e-05\n"
     ]
    }
   ],
   "source": [
    "# Define callbacks for early stopping and learning rate reduction\n",
    "early_stopping = EarlyStopping(monitor='val_loss', patience=5, restore_best_weights=True)\n",
    "reduce_lr = ReduceLROnPlateau(monitor='val_loss', factor=0.5, patience=3, min_lr=1e-6)\n",
    "\n",
    "# Train the model on the dataset\n",
    "history = efficientnetb0_model.fit(\n",
    "    train_dataset,\n",
    "    validation_data=val_dataset,\n",
    "    epochs=30,\n",
    "    callbacks=[early_stopping, reduce_lr]  \n",
    ")"
   ]
  },
  {
   "cell_type": "code",
   "execution_count": 20,
   "id": "b57a1b37",
   "metadata": {
    "execution": {
     "iopub.execute_input": "2024-12-28T12:00:15.658170Z",
     "iopub.status.busy": "2024-12-28T12:00:15.657866Z",
     "iopub.status.idle": "2024-12-28T12:00:23.784941Z",
     "shell.execute_reply": "2024-12-28T12:00:23.784159Z"
    },
    "papermill": {
     "duration": 9.994555,
     "end_time": "2024-12-28T12:00:23.786267",
     "exception": false,
     "start_time": "2024-12-28T12:00:13.791712",
     "status": "completed"
    },
    "tags": []
   },
   "outputs": [
    {
     "name": "stdout",
     "output_type": "stream",
     "text": [
      "\u001b[1m51/51\u001b[0m \u001b[32m━━━━━━━━━━━━━━━━━━━━\u001b[0m\u001b[37m\u001b[0m \u001b[1m8s\u001b[0m 161ms/step - accuracy: 0.0956 - loss: 2.2852\n",
      "Test accuracy: 0.11076540499925613\n",
      "Test accuracy: 2.29496169090271\n"
     ]
    }
   ],
   "source": [
    "# Evaluate the model on the test dataset\n",
    "test_loss, test_accuracy = efficientnetb0_model.evaluate(test_dataset)\n",
    "print(f'Test accuracy: {test_accuracy}')\n",
    "print(f'Test accuracy: {test_loss}')"
   ]
  },
  {
   "cell_type": "markdown",
   "id": "07a83ebe",
   "metadata": {
    "papermill": {
     "duration": 1.834146,
     "end_time": "2024-12-28T12:00:27.486976",
     "exception": false,
     "start_time": "2024-12-28T12:00:25.652830",
     "status": "completed"
    },
    "tags": []
   },
   "source": [
    "## ResNet50"
   ]
  },
  {
   "cell_type": "code",
   "execution_count": 21,
   "id": "d58f9710",
   "metadata": {
    "execution": {
     "iopub.execute_input": "2024-12-28T12:00:31.164375Z",
     "iopub.status.busy": "2024-12-28T12:00:31.164051Z",
     "iopub.status.idle": "2024-12-28T12:00:32.859671Z",
     "shell.execute_reply": "2024-12-28T12:00:32.858603Z"
    },
    "papermill": {
     "duration": 3.53395,
     "end_time": "2024-12-28T12:00:32.861440",
     "exception": false,
     "start_time": "2024-12-28T12:00:29.327490",
     "status": "completed"
    },
    "tags": []
   },
   "outputs": [
    {
     "name": "stdout",
     "output_type": "stream",
     "text": [
      "Downloading data from https://storage.googleapis.com/tensorflow/keras-applications/resnet/resnet50_weights_tf_dim_ordering_tf_kernels_notop.h5\n",
      "\u001b[1m94765736/94765736\u001b[0m \u001b[32m━━━━━━━━━━━━━━━━━━━━\u001b[0m\u001b[37m\u001b[0m \u001b[1m0s\u001b[0m 0us/step\n"
     ]
    }
   ],
   "source": [
    "import tensorflow as tf\n",
    "from tensorflow.keras.applications import ResNet50\n",
    "from tensorflow.keras import layers, models, optimizers\n",
    "\n",
    "def build_resnet50_model(input_shape, num_classes):\n",
    "    # Define input layer\n",
    "    inputs = tf.keras.Input(shape=input_shape)\n",
    "\n",
    "    # Load the ResNet50 model with pre-trained ImageNet weights, excluding the top layer\n",
    "    base_model = ResNet50(weights='imagenet', include_top=False, input_tensor=inputs)\n",
    "    base_model.trainable = False  # Freeze the base model layers\n",
    "\n",
    "    # Add custom layers on top\n",
    "    x = base_model.output\n",
    "    x = layers.GlobalAveragePooling2D()(x)  # Add global average pooling layer\n",
    "    x = layers.Dropout(0.5)(x)  # Dropout layer to prevent overfitting\n",
    "    x = layers.Dense(128, activation='relu')(x)  # Fully connected layer\n",
    "    x = layers.Dropout(0.3)(x)  # Additional dropout layer\n",
    "\n",
    "    # Output layer with softmax activation for multi-class classification\n",
    "    outputs = layers.Dense(num_classes, activation='softmax')(x)\n",
    "\n",
    "    # Create the model\n",
    "    model = models.Model(inputs=inputs, outputs=outputs)\n",
    "\n",
    "    return model\n",
    "\n",
    "# Build the model\n",
    "resnet_model = build_resnet50_model(input_shape, num_classes)\n",
    "\n",
    "# Compile the model\n",
    "optimizer = optimizers.Adam(learning_rate=0.0001)\n",
    "\n",
    "resnet_model.compile(optimizer=optimizer, \n",
    "                        loss='sparse_categorical_crossentropy', \n",
    "                        metrics=['accuracy'])"
   ]
  },
  {
   "cell_type": "code",
   "execution_count": 22,
   "id": "19d1e7f3",
   "metadata": {
    "execution": {
     "iopub.execute_input": "2024-12-28T12:00:36.622940Z",
     "iopub.status.busy": "2024-12-28T12:00:36.622434Z",
     "iopub.status.idle": "2024-12-28T12:20:51.165073Z",
     "shell.execute_reply": "2024-12-28T12:20:51.164273Z"
    },
    "papermill": {
     "duration": 1216.446701,
     "end_time": "2024-12-28T12:20:51.166623",
     "exception": false,
     "start_time": "2024-12-28T12:00:34.719922",
     "status": "completed"
    },
    "tags": []
   },
   "outputs": [
    {
     "name": "stdout",
     "output_type": "stream",
     "text": [
      "Epoch 1/30\n",
      "\u001b[1m312/312\u001b[0m \u001b[32m━━━━━━━━━━━━━━━━━━━━\u001b[0m\u001b[37m\u001b[0m \u001b[1m67s\u001b[0m 173ms/step - accuracy: 0.1059 - loss: 2.7530 - val_accuracy: 0.0627 - val_loss: 2.2920 - learning_rate: 1.0000e-04\n",
      "Epoch 2/30\n",
      "\u001b[1m312/312\u001b[0m \u001b[32m━━━━━━━━━━━━━━━━━━━━\u001b[0m\u001b[37m\u001b[0m \u001b[1m39s\u001b[0m 126ms/step - accuracy: 0.1175 - loss: 2.3752 - val_accuracy: 0.1486 - val_loss: 2.3014 - learning_rate: 1.0000e-04\n",
      "Epoch 3/30\n",
      "\u001b[1m312/312\u001b[0m \u001b[32m━━━━━━━━━━━━━━━━━━━━\u001b[0m\u001b[37m\u001b[0m \u001b[1m39s\u001b[0m 127ms/step - accuracy: 0.1104 - loss: 2.3226 - val_accuracy: 0.1129 - val_loss: 2.3021 - learning_rate: 1.0000e-04\n",
      "Epoch 4/30\n",
      "\u001b[1m312/312\u001b[0m \u001b[32m━━━━━━━━━━━━━━━━━━━━\u001b[0m\u001b[37m\u001b[0m \u001b[1m39s\u001b[0m 126ms/step - accuracy: 0.1158 - loss: 2.3062 - val_accuracy: 0.1135 - val_loss: 2.3013 - learning_rate: 1.0000e-04\n",
      "Epoch 5/30\n",
      "\u001b[1m312/312\u001b[0m \u001b[32m━━━━━━━━━━━━━━━━━━━━\u001b[0m\u001b[37m\u001b[0m \u001b[1m40s\u001b[0m 127ms/step - accuracy: 0.1208 - loss: 2.3013 - val_accuracy: 0.2658 - val_loss: 2.2940 - learning_rate: 5.0000e-05\n",
      "Epoch 6/30\n",
      "\u001b[1m312/312\u001b[0m \u001b[32m━━━━━━━━━━━━━━━━━━━━\u001b[0m\u001b[37m\u001b[0m \u001b[1m39s\u001b[0m 126ms/step - accuracy: 0.1203 - loss: 2.2944 - val_accuracy: 0.2313 - val_loss: 2.2870 - learning_rate: 5.0000e-05\n",
      "Epoch 7/30\n",
      "\u001b[1m312/312\u001b[0m \u001b[32m━━━━━━━━━━━━━━━━━━━━\u001b[0m\u001b[37m\u001b[0m \u001b[1m40s\u001b[0m 127ms/step - accuracy: 0.1320 - loss: 2.2919 - val_accuracy: 0.2226 - val_loss: 2.2820 - learning_rate: 5.0000e-05\n",
      "Epoch 8/30\n",
      "\u001b[1m312/312\u001b[0m \u001b[32m━━━━━━━━━━━━━━━━━━━━\u001b[0m\u001b[37m\u001b[0m \u001b[1m40s\u001b[0m 128ms/step - accuracy: 0.1308 - loss: 2.2837 - val_accuracy: 0.2270 - val_loss: 2.2707 - learning_rate: 5.0000e-05\n",
      "Epoch 9/30\n",
      "\u001b[1m312/312\u001b[0m \u001b[32m━━━━━━━━━━━━━━━━━━━━\u001b[0m\u001b[37m\u001b[0m \u001b[1m40s\u001b[0m 127ms/step - accuracy: 0.1284 - loss: 2.2794 - val_accuracy: 0.2069 - val_loss: 2.2698 - learning_rate: 5.0000e-05\n",
      "Epoch 10/30\n",
      "\u001b[1m312/312\u001b[0m \u001b[32m━━━━━━━━━━━━━━━━━━━━\u001b[0m\u001b[37m\u001b[0m \u001b[1m39s\u001b[0m 127ms/step - accuracy: 0.1353 - loss: 2.2652 - val_accuracy: 0.2508 - val_loss: 2.2357 - learning_rate: 5.0000e-05\n",
      "Epoch 11/30\n",
      "\u001b[1m312/312\u001b[0m \u001b[32m━━━━━━━━━━━━━━━━━━━━\u001b[0m\u001b[37m\u001b[0m \u001b[1m40s\u001b[0m 127ms/step - accuracy: 0.1533 - loss: 2.2547 - val_accuracy: 0.2633 - val_loss: 2.2178 - learning_rate: 5.0000e-05\n",
      "Epoch 12/30\n",
      "\u001b[1m312/312\u001b[0m \u001b[32m━━━━━━━━━━━━━━━━━━━━\u001b[0m\u001b[37m\u001b[0m \u001b[1m39s\u001b[0m 126ms/step - accuracy: 0.1538 - loss: 2.2555 - val_accuracy: 0.2520 - val_loss: 2.1995 - learning_rate: 5.0000e-05\n",
      "Epoch 13/30\n",
      "\u001b[1m312/312\u001b[0m \u001b[32m━━━━━━━━━━━━━━━━━━━━\u001b[0m\u001b[37m\u001b[0m \u001b[1m39s\u001b[0m 126ms/step - accuracy: 0.1524 - loss: 2.2354 - val_accuracy: 0.2307 - val_loss: 2.1685 - learning_rate: 5.0000e-05\n",
      "Epoch 14/30\n",
      "\u001b[1m312/312\u001b[0m \u001b[32m━━━━━━━━━━━━━━━━━━━━\u001b[0m\u001b[37m\u001b[0m \u001b[1m40s\u001b[0m 127ms/step - accuracy: 0.1622 - loss: 2.2329 - val_accuracy: 0.2458 - val_loss: 2.1569 - learning_rate: 5.0000e-05\n",
      "Epoch 15/30\n",
      "\u001b[1m312/312\u001b[0m \u001b[32m━━━━━━━━━━━━━━━━━━━━\u001b[0m\u001b[37m\u001b[0m \u001b[1m40s\u001b[0m 128ms/step - accuracy: 0.1603 - loss: 2.2255 - val_accuracy: 0.2608 - val_loss: 2.1417 - learning_rate: 5.0000e-05\n",
      "Epoch 16/30\n",
      "\u001b[1m312/312\u001b[0m \u001b[32m━━━━━━━━━━━━━━━━━━━━\u001b[0m\u001b[37m\u001b[0m \u001b[1m40s\u001b[0m 127ms/step - accuracy: 0.1594 - loss: 2.2158 - val_accuracy: 0.2489 - val_loss: 2.1226 - learning_rate: 5.0000e-05\n",
      "Epoch 17/30\n",
      "\u001b[1m312/312\u001b[0m \u001b[32m━━━━━━━━━━━━━━━━━━━━\u001b[0m\u001b[37m\u001b[0m \u001b[1m40s\u001b[0m 127ms/step - accuracy: 0.1744 - loss: 2.2035 - val_accuracy: 0.2182 - val_loss: 2.1138 - learning_rate: 5.0000e-05\n",
      "Epoch 18/30\n",
      "\u001b[1m312/312\u001b[0m \u001b[32m━━━━━━━━━━━━━━━━━━━━\u001b[0m\u001b[37m\u001b[0m \u001b[1m40s\u001b[0m 127ms/step - accuracy: 0.1775 - loss: 2.1954 - val_accuracy: 0.2313 - val_loss: 2.1072 - learning_rate: 5.0000e-05\n",
      "Epoch 19/30\n",
      "\u001b[1m312/312\u001b[0m \u001b[32m━━━━━━━━━━━━━━━━━━━━\u001b[0m\u001b[37m\u001b[0m \u001b[1m40s\u001b[0m 127ms/step - accuracy: 0.1711 - loss: 2.1925 - val_accuracy: 0.2238 - val_loss: 2.0952 - learning_rate: 5.0000e-05\n",
      "Epoch 20/30\n",
      "\u001b[1m312/312\u001b[0m \u001b[32m━━━━━━━━━━━━━━━━━━━━\u001b[0m\u001b[37m\u001b[0m \u001b[1m40s\u001b[0m 127ms/step - accuracy: 0.1793 - loss: 2.1790 - val_accuracy: 0.2226 - val_loss: 2.0975 - learning_rate: 5.0000e-05\n",
      "Epoch 21/30\n",
      "\u001b[1m312/312\u001b[0m \u001b[32m━━━━━━━━━━━━━━━━━━━━\u001b[0m\u001b[37m\u001b[0m \u001b[1m40s\u001b[0m 127ms/step - accuracy: 0.1789 - loss: 2.1773 - val_accuracy: 0.2232 - val_loss: 2.0927 - learning_rate: 5.0000e-05\n",
      "Epoch 22/30\n",
      "\u001b[1m312/312\u001b[0m \u001b[32m━━━━━━━━━━━━━━━━━━━━\u001b[0m\u001b[37m\u001b[0m \u001b[1m39s\u001b[0m 126ms/step - accuracy: 0.1798 - loss: 2.1724 - val_accuracy: 0.2182 - val_loss: 2.0808 - learning_rate: 5.0000e-05\n",
      "Epoch 23/30\n",
      "\u001b[1m312/312\u001b[0m \u001b[32m━━━━━━━━━━━━━━━━━━━━\u001b[0m\u001b[37m\u001b[0m \u001b[1m39s\u001b[0m 126ms/step - accuracy: 0.1874 - loss: 2.1637 - val_accuracy: 0.2226 - val_loss: 2.0720 - learning_rate: 5.0000e-05\n",
      "Epoch 24/30\n",
      "\u001b[1m312/312\u001b[0m \u001b[32m━━━━━━━━━━━━━━━━━━━━\u001b[0m\u001b[37m\u001b[0m \u001b[1m40s\u001b[0m 127ms/step - accuracy: 0.1825 - loss: 2.1637 - val_accuracy: 0.2201 - val_loss: 2.0653 - learning_rate: 5.0000e-05\n",
      "Epoch 25/30\n",
      "\u001b[1m312/312\u001b[0m \u001b[32m━━━━━━━━━━━━━━━━━━━━\u001b[0m\u001b[37m\u001b[0m \u001b[1m40s\u001b[0m 127ms/step - accuracy: 0.1847 - loss: 2.1556 - val_accuracy: 0.2257 - val_loss: 2.0577 - learning_rate: 5.0000e-05\n",
      "Epoch 26/30\n",
      "\u001b[1m312/312\u001b[0m \u001b[32m━━━━━━━━━━━━━━━━━━━━\u001b[0m\u001b[37m\u001b[0m \u001b[1m40s\u001b[0m 127ms/step - accuracy: 0.1923 - loss: 2.1493 - val_accuracy: 0.2238 - val_loss: 2.0549 - learning_rate: 5.0000e-05\n",
      "Epoch 27/30\n",
      "\u001b[1m312/312\u001b[0m \u001b[32m━━━━━━━━━━━━━━━━━━━━\u001b[0m\u001b[37m\u001b[0m \u001b[1m39s\u001b[0m 126ms/step - accuracy: 0.1879 - loss: 2.1511 - val_accuracy: 0.2326 - val_loss: 2.0531 - learning_rate: 5.0000e-05\n",
      "Epoch 28/30\n",
      "\u001b[1m312/312\u001b[0m \u001b[32m━━━━━━━━━━━━━━━━━━━━\u001b[0m\u001b[37m\u001b[0m \u001b[1m40s\u001b[0m 127ms/step - accuracy: 0.1929 - loss: 2.1374 - val_accuracy: 0.2351 - val_loss: 2.0456 - learning_rate: 5.0000e-05\n",
      "Epoch 29/30\n",
      "\u001b[1m312/312\u001b[0m \u001b[32m━━━━━━━━━━━━━━━━━━━━\u001b[0m\u001b[37m\u001b[0m \u001b[1m40s\u001b[0m 127ms/step - accuracy: 0.1939 - loss: 2.1389 - val_accuracy: 0.2464 - val_loss: 2.0396 - learning_rate: 5.0000e-05\n",
      "Epoch 30/30\n",
      "\u001b[1m312/312\u001b[0m \u001b[32m━━━━━━━━━━━━━━━━━━━━\u001b[0m\u001b[37m\u001b[0m \u001b[1m40s\u001b[0m 127ms/step - accuracy: 0.1957 - loss: 2.1321 - val_accuracy: 0.2464 - val_loss: 2.0360 - learning_rate: 5.0000e-05\n"
     ]
    }
   ],
   "source": [
    "# Define callbacks for early stopping and learning rate reduction\n",
    "early_stopping = EarlyStopping(monitor='val_loss', patience=5, restore_best_weights=True)\n",
    "reduce_lr = ReduceLROnPlateau(monitor='val_loss', factor=0.5, patience=3, min_lr=1e-6)\n",
    "\n",
    "# Train the model on the dataset\n",
    "history = resnet_model.fit(\n",
    "    train_dataset,\n",
    "    validation_data=val_dataset,\n",
    "    epochs=30,\n",
    "    callbacks=[early_stopping, reduce_lr]  \n",
    ")"
   ]
  },
  {
   "cell_type": "code",
   "execution_count": 23,
   "id": "b8c3d20a",
   "metadata": {
    "execution": {
     "iopub.execute_input": "2024-12-28T12:20:55.948039Z",
     "iopub.status.busy": "2024-12-28T12:20:55.947729Z",
     "iopub.status.idle": "2024-12-28T12:21:04.224134Z",
     "shell.execute_reply": "2024-12-28T12:21:04.223380Z"
    },
    "papermill": {
     "duration": 10.64532,
     "end_time": "2024-12-28T12:21:04.225314",
     "exception": false,
     "start_time": "2024-12-28T12:20:53.579994",
     "status": "completed"
    },
    "tags": []
   },
   "outputs": [
    {
     "name": "stdout",
     "output_type": "stream",
     "text": [
      "\u001b[1m51/51\u001b[0m \u001b[32m━━━━━━━━━━━━━━━━━━━━\u001b[0m\u001b[37m\u001b[0m \u001b[1m8s\u001b[0m 162ms/step - accuracy: 0.4556 - loss: 1.9347\n",
      "Test accuracy: 0.25886744260787964\n",
      "Test accuracy: 2.0360023975372314\n"
     ]
    }
   ],
   "source": [
    "# Evaluate the model on the test dataset\n",
    "test_loss, test_accuracy = resnet_model.evaluate(test_dataset)\n",
    "print(f'Test accuracy: {test_accuracy}')\n",
    "print(f'Test accuracy: {test_loss}')"
   ]
  },
  {
   "cell_type": "markdown",
   "id": "bb7ab884",
   "metadata": {
    "papermill": {
     "duration": 2.340983,
     "end_time": "2024-12-28T12:21:08.997865",
     "exception": false,
     "start_time": "2024-12-28T12:21:06.656882",
     "status": "completed"
    },
    "tags": []
   },
   "source": [
    "## VGG-16"
   ]
  },
  {
   "cell_type": "code",
   "execution_count": 24,
   "id": "71b030b8",
   "metadata": {
    "execution": {
     "iopub.execute_input": "2024-12-28T12:21:13.755334Z",
     "iopub.status.busy": "2024-12-28T12:21:13.755015Z",
     "iopub.status.idle": "2024-12-28T12:21:14.918132Z",
     "shell.execute_reply": "2024-12-28T12:21:14.917438Z"
    },
    "papermill": {
     "duration": 3.594312,
     "end_time": "2024-12-28T12:21:14.919812",
     "exception": false,
     "start_time": "2024-12-28T12:21:11.325500",
     "status": "completed"
    },
    "tags": []
   },
   "outputs": [
    {
     "name": "stdout",
     "output_type": "stream",
     "text": [
      "Downloading data from https://storage.googleapis.com/tensorflow/keras-applications/vgg16/vgg16_weights_tf_dim_ordering_tf_kernels_notop.h5\n",
      "\u001b[1m58889256/58889256\u001b[0m \u001b[32m━━━━━━━━━━━━━━━━━━━━\u001b[0m\u001b[37m\u001b[0m \u001b[1m1s\u001b[0m 0us/step\n"
     ]
    }
   ],
   "source": [
    "import tensorflow as tf\n",
    "from tensorflow.keras.applications import VGG16\n",
    "from tensorflow.keras import layers, models, optimizers\n",
    "\n",
    "def build_vgg16_model(input_shape, num_classes):\n",
    "    # Define input layer\n",
    "    inputs = tf.keras.Input(shape=input_shape)\n",
    "\n",
    "    # Load the VGG16 model with pre-trained ImageNet weights, excluding the top layer\n",
    "    base_model = VGG16(weights='imagenet', include_top=False, input_tensor=inputs)\n",
    "    base_model.trainable = False  # Freeze the base model layers\n",
    "\n",
    "    # Add custom layers on top\n",
    "    x = base_model.output\n",
    "    x = layers.GlobalAveragePooling2D()(x)  # Add global average pooling layer\n",
    "    x = layers.Dropout(0.5)(x)  # Dropout layer to prevent overfitting\n",
    "    x = layers.Dense(128, activation='relu')(x)  # Fully connected layer\n",
    "    x = layers.Dropout(0.3)(x)  # Additional dropout layer\n",
    "\n",
    "    # Output layer with softmax activation for multi-class classification\n",
    "    outputs = layers.Dense(num_classes, activation='softmax')(x)\n",
    "\n",
    "    # Create the model\n",
    "    model = models.Model(inputs=inputs, outputs=outputs)\n",
    "\n",
    "    return model\n",
    "\n",
    "# Build the VGG16 model\n",
    "vgg16_model = build_vgg16_model(input_shape, num_classes)\n",
    "\n",
    "# Compile the model\n",
    "optimizer = optimizers.Adam(learning_rate=0.0001)\n",
    "\n",
    "vgg16_model.compile(optimizer=optimizer, \n",
    "                    loss='sparse_categorical_crossentropy', \n",
    "                    metrics=['accuracy'])"
   ]
  },
  {
   "cell_type": "code",
   "execution_count": 25,
   "id": "f848cff7",
   "metadata": {
    "execution": {
     "iopub.execute_input": "2024-12-28T12:21:19.826763Z",
     "iopub.status.busy": "2024-12-28T12:21:19.826423Z",
     "iopub.status.idle": "2024-12-28T12:57:07.297258Z",
     "shell.execute_reply": "2024-12-28T12:57:07.296254Z"
    },
    "papermill": {
     "duration": 2152.663474,
     "end_time": "2024-12-28T12:57:10.038022",
     "exception": false,
     "start_time": "2024-12-28T12:21:17.374548",
     "status": "completed"
    },
    "tags": []
   },
   "outputs": [
    {
     "name": "stdout",
     "output_type": "stream",
     "text": [
      "Epoch 1/30\n",
      "\u001b[1m312/312\u001b[0m \u001b[32m━━━━━━━━━━━━━━━━━━━━\u001b[0m\u001b[37m\u001b[0m \u001b[1m133s\u001b[0m 349ms/step - accuracy: 0.1041 - loss: 2.5081 - val_accuracy: 0.2433 - val_loss: 2.1999 - learning_rate: 1.0000e-04\n",
      "Epoch 2/30\n",
      "\u001b[1m312/312\u001b[0m \u001b[32m━━━━━━━━━━━━━━━━━━━━\u001b[0m\u001b[37m\u001b[0m \u001b[1m69s\u001b[0m 222ms/step - accuracy: 0.1573 - loss: 2.2871 - val_accuracy: 0.4069 - val_loss: 2.1111 - learning_rate: 1.0000e-04\n",
      "Epoch 3/30\n",
      "\u001b[1m312/312\u001b[0m \u001b[32m━━━━━━━━━━━━━━━━━━━━\u001b[0m\u001b[37m\u001b[0m \u001b[1m69s\u001b[0m 222ms/step - accuracy: 0.2228 - loss: 2.1783 - val_accuracy: 0.4840 - val_loss: 2.0211 - learning_rate: 1.0000e-04\n",
      "Epoch 4/30\n",
      "\u001b[1m312/312\u001b[0m \u001b[32m━━━━━━━━━━━━━━━━━━━━\u001b[0m\u001b[37m\u001b[0m \u001b[1m70s\u001b[0m 223ms/step - accuracy: 0.2754 - loss: 2.0679 - val_accuracy: 0.5643 - val_loss: 1.9155 - learning_rate: 1.0000e-04\n",
      "Epoch 5/30\n",
      "\u001b[1m312/312\u001b[0m \u001b[32m━━━━━━━━━━━━━━━━━━━━\u001b[0m\u001b[37m\u001b[0m \u001b[1m70s\u001b[0m 223ms/step - accuracy: 0.3161 - loss: 1.9746 - val_accuracy: 0.5712 - val_loss: 1.8151 - learning_rate: 1.0000e-04\n",
      "Epoch 6/30\n",
      "\u001b[1m312/312\u001b[0m \u001b[32m━━━━━━━━━━━━━━━━━━━━\u001b[0m\u001b[37m\u001b[0m \u001b[1m69s\u001b[0m 223ms/step - accuracy: 0.3571 - loss: 1.8626 - val_accuracy: 0.6069 - val_loss: 1.6865 - learning_rate: 1.0000e-04\n",
      "Epoch 7/30\n",
      "\u001b[1m312/312\u001b[0m \u001b[32m━━━━━━━━━━━━━━━━━━━━\u001b[0m\u001b[37m\u001b[0m \u001b[1m70s\u001b[0m 224ms/step - accuracy: 0.3974 - loss: 1.7809 - val_accuracy: 0.6357 - val_loss: 1.5696 - learning_rate: 1.0000e-04\n",
      "Epoch 8/30\n",
      "\u001b[1m312/312\u001b[0m \u001b[32m━━━━━━━━━━━━━━━━━━━━\u001b[0m\u001b[37m\u001b[0m \u001b[1m70s\u001b[0m 224ms/step - accuracy: 0.4248 - loss: 1.6910 - val_accuracy: 0.6458 - val_loss: 1.4855 - learning_rate: 1.0000e-04\n",
      "Epoch 9/30\n",
      "\u001b[1m312/312\u001b[0m \u001b[32m━━━━━━━━━━━━━━━━━━━━\u001b[0m\u001b[37m\u001b[0m \u001b[1m69s\u001b[0m 222ms/step - accuracy: 0.4442 - loss: 1.6425 - val_accuracy: 0.6514 - val_loss: 1.4288 - learning_rate: 1.0000e-04\n",
      "Epoch 10/30\n",
      "\u001b[1m312/312\u001b[0m \u001b[32m━━━━━━━━━━━━━━━━━━━━\u001b[0m\u001b[37m\u001b[0m \u001b[1m69s\u001b[0m 222ms/step - accuracy: 0.4626 - loss: 1.5910 - val_accuracy: 0.6677 - val_loss: 1.3560 - learning_rate: 1.0000e-04\n",
      "Epoch 11/30\n",
      "\u001b[1m312/312\u001b[0m \u001b[32m━━━━━━━━━━━━━━━━━━━━\u001b[0m\u001b[37m\u001b[0m \u001b[1m70s\u001b[0m 224ms/step - accuracy: 0.4880 - loss: 1.5388 - val_accuracy: 0.6690 - val_loss: 1.3025 - learning_rate: 1.0000e-04\n",
      "Epoch 12/30\n",
      "\u001b[1m312/312\u001b[0m \u001b[32m━━━━━━━━━━━━━━━━━━━━\u001b[0m\u001b[37m\u001b[0m \u001b[1m69s\u001b[0m 223ms/step - accuracy: 0.4952 - loss: 1.4977 - val_accuracy: 0.6746 - val_loss: 1.2603 - learning_rate: 1.0000e-04\n",
      "Epoch 13/30\n",
      "\u001b[1m312/312\u001b[0m \u001b[32m━━━━━━━━━━━━━━━━━━━━\u001b[0m\u001b[37m\u001b[0m \u001b[1m69s\u001b[0m 222ms/step - accuracy: 0.4963 - loss: 1.4795 - val_accuracy: 0.6746 - val_loss: 1.2308 - learning_rate: 1.0000e-04\n",
      "Epoch 14/30\n",
      "\u001b[1m312/312\u001b[0m \u001b[32m━━━━━━━━━━━━━━━━━━━━\u001b[0m\u001b[37m\u001b[0m \u001b[1m70s\u001b[0m 224ms/step - accuracy: 0.5145 - loss: 1.4437 - val_accuracy: 0.6897 - val_loss: 1.1932 - learning_rate: 1.0000e-04\n",
      "Epoch 15/30\n",
      "\u001b[1m312/312\u001b[0m \u001b[32m━━━━━━━━━━━━━━━━━━━━\u001b[0m\u001b[37m\u001b[0m \u001b[1m70s\u001b[0m 223ms/step - accuracy: 0.5139 - loss: 1.4188 - val_accuracy: 0.6940 - val_loss: 1.1592 - learning_rate: 1.0000e-04\n",
      "Epoch 16/30\n",
      "\u001b[1m312/312\u001b[0m \u001b[32m━━━━━━━━━━━━━━━━━━━━\u001b[0m\u001b[37m\u001b[0m \u001b[1m69s\u001b[0m 222ms/step - accuracy: 0.5438 - loss: 1.3900 - val_accuracy: 0.7041 - val_loss: 1.1392 - learning_rate: 1.0000e-04\n",
      "Epoch 17/30\n",
      "\u001b[1m312/312\u001b[0m \u001b[32m━━━━━━━━━━━━━━━━━━━━\u001b[0m\u001b[37m\u001b[0m \u001b[1m69s\u001b[0m 222ms/step - accuracy: 0.5488 - loss: 1.3484 - val_accuracy: 0.6991 - val_loss: 1.1120 - learning_rate: 1.0000e-04\n",
      "Epoch 18/30\n",
      "\u001b[1m312/312\u001b[0m \u001b[32m━━━━━━━━━━━━━━━━━━━━\u001b[0m\u001b[37m\u001b[0m \u001b[1m70s\u001b[0m 224ms/step - accuracy: 0.5577 - loss: 1.3384 - val_accuracy: 0.7129 - val_loss: 1.0793 - learning_rate: 1.0000e-04\n",
      "Epoch 19/30\n",
      "\u001b[1m312/312\u001b[0m \u001b[32m━━━━━━━━━━━━━━━━━━━━\u001b[0m\u001b[37m\u001b[0m \u001b[1m69s\u001b[0m 223ms/step - accuracy: 0.5675 - loss: 1.3156 - val_accuracy: 0.7160 - val_loss: 1.0648 - learning_rate: 1.0000e-04\n",
      "Epoch 20/30\n",
      "\u001b[1m312/312\u001b[0m \u001b[32m━━━━━━━━━━━━━━━━━━━━\u001b[0m\u001b[37m\u001b[0m \u001b[1m69s\u001b[0m 222ms/step - accuracy: 0.5675 - loss: 1.2980 - val_accuracy: 0.7191 - val_loss: 1.0459 - learning_rate: 1.0000e-04\n",
      "Epoch 21/30\n",
      "\u001b[1m312/312\u001b[0m \u001b[32m━━━━━━━━━━━━━━━━━━━━\u001b[0m\u001b[37m\u001b[0m \u001b[1m69s\u001b[0m 221ms/step - accuracy: 0.5727 - loss: 1.2623 - val_accuracy: 0.7223 - val_loss: 1.0190 - learning_rate: 1.0000e-04\n",
      "Epoch 22/30\n",
      "\u001b[1m312/312\u001b[0m \u001b[32m━━━━━━━━━━━━━━━━━━━━\u001b[0m\u001b[37m\u001b[0m \u001b[1m70s\u001b[0m 223ms/step - accuracy: 0.5663 - loss: 1.2712 - val_accuracy: 0.7260 - val_loss: 1.0141 - learning_rate: 1.0000e-04\n",
      "Epoch 23/30\n",
      "\u001b[1m312/312\u001b[0m \u001b[32m━━━━━━━━━━━━━━━━━━━━\u001b[0m\u001b[37m\u001b[0m \u001b[1m70s\u001b[0m 223ms/step - accuracy: 0.5780 - loss: 1.2485 - val_accuracy: 0.7304 - val_loss: 0.9896 - learning_rate: 1.0000e-04\n",
      "Epoch 24/30\n",
      "\u001b[1m312/312\u001b[0m \u001b[32m━━━━━━━━━━━━━━━━━━━━\u001b[0m\u001b[37m\u001b[0m \u001b[1m70s\u001b[0m 223ms/step - accuracy: 0.5953 - loss: 1.2294 - val_accuracy: 0.7373 - val_loss: 0.9717 - learning_rate: 1.0000e-04\n",
      "Epoch 25/30\n",
      "\u001b[1m312/312\u001b[0m \u001b[32m━━━━━━━━━━━━━━━━━━━━\u001b[0m\u001b[37m\u001b[0m \u001b[1m69s\u001b[0m 223ms/step - accuracy: 0.5882 - loss: 1.2256 - val_accuracy: 0.7429 - val_loss: 0.9560 - learning_rate: 1.0000e-04\n",
      "Epoch 26/30\n",
      "\u001b[1m312/312\u001b[0m \u001b[32m━━━━━━━━━━━━━━━━━━━━\u001b[0m\u001b[37m\u001b[0m \u001b[1m69s\u001b[0m 222ms/step - accuracy: 0.5919 - loss: 1.2174 - val_accuracy: 0.7442 - val_loss: 0.9487 - learning_rate: 1.0000e-04\n",
      "Epoch 27/30\n",
      "\u001b[1m312/312\u001b[0m \u001b[32m━━━━━━━━━━━━━━━━━━━━\u001b[0m\u001b[37m\u001b[0m \u001b[1m69s\u001b[0m 222ms/step - accuracy: 0.6044 - loss: 1.2007 - val_accuracy: 0.7511 - val_loss: 0.9307 - learning_rate: 1.0000e-04\n",
      "Epoch 28/30\n",
      "\u001b[1m312/312\u001b[0m \u001b[32m━━━━━━━━━━━━━━━━━━━━\u001b[0m\u001b[37m\u001b[0m \u001b[1m69s\u001b[0m 222ms/step - accuracy: 0.5972 - loss: 1.1906 - val_accuracy: 0.7567 - val_loss: 0.9121 - learning_rate: 1.0000e-04\n",
      "Epoch 29/30\n",
      "\u001b[1m312/312\u001b[0m \u001b[32m━━━━━━━━━━━━━━━━━━━━\u001b[0m\u001b[37m\u001b[0m \u001b[1m70s\u001b[0m 224ms/step - accuracy: 0.5946 - loss: 1.1901 - val_accuracy: 0.7580 - val_loss: 0.9046 - learning_rate: 1.0000e-04\n",
      "Epoch 30/30\n",
      "\u001b[1m312/312\u001b[0m \u001b[32m━━━━━━━━━━━━━━━━━━━━\u001b[0m\u001b[37m\u001b[0m \u001b[1m69s\u001b[0m 223ms/step - accuracy: 0.6110 - loss: 1.1445 - val_accuracy: 0.7567 - val_loss: 0.8894 - learning_rate: 1.0000e-04\n"
     ]
    }
   ],
   "source": [
    "# Define callbacks for early stopping and learning rate reduction\n",
    "early_stopping = EarlyStopping(monitor='val_loss', patience=5, restore_best_weights=True)\n",
    "reduce_lr = ReduceLROnPlateau(monitor='val_loss', factor=0.5, patience=3, min_lr=1e-6)\n",
    "\n",
    "# Train the model on the dataset\n",
    "history = vgg16_model.fit(\n",
    "    train_dataset,\n",
    "    validation_data=val_dataset,\n",
    "    epochs=30,\n",
    "    callbacks=[early_stopping, reduce_lr]  \n",
    ")"
   ]
  },
  {
   "cell_type": "code",
   "execution_count": 26,
   "id": "ceaeeff0",
   "metadata": {
    "execution": {
     "iopub.execute_input": "2024-12-28T12:57:15.815200Z",
     "iopub.status.busy": "2024-12-28T12:57:15.814880Z",
     "iopub.status.idle": "2024-12-28T12:57:36.664481Z",
     "shell.execute_reply": "2024-12-28T12:57:36.663666Z"
    },
    "papermill": {
     "duration": 23.703276,
     "end_time": "2024-12-28T12:57:36.666039",
     "exception": false,
     "start_time": "2024-12-28T12:57:12.962763",
     "status": "completed"
    },
    "tags": []
   },
   "outputs": [
    {
     "name": "stdout",
     "output_type": "stream",
     "text": [
      "\u001b[1m51/51\u001b[0m \u001b[32m━━━━━━━━━━━━━━━━━━━━\u001b[0m\u001b[37m\u001b[0m \u001b[1m21s\u001b[0m 412ms/step - accuracy: 0.7280 - loss: 0.9485\n",
      "Test accuracy: 0.7510889768600464\n",
      "Test accuracy: 0.8925820589065552\n"
     ]
    }
   ],
   "source": [
    "# Evaluate the model on the test dataset\n",
    "test_loss, test_accuracy = vgg16_model.evaluate(test_dataset)\n",
    "print(f'Test accuracy: {test_accuracy}')\n",
    "print(f'Test accuracy: {test_loss}')"
   ]
  }
 ],
 "metadata": {
  "kaggle": {
   "accelerator": "nvidiaTeslaT4",
   "dataSources": [
    {
     "datasetId": 5843407,
     "sourceId": 9582851,
     "sourceType": "datasetVersion"
    },
    {
     "datasetId": 5904220,
     "sourceId": 9663407,
     "sourceType": "datasetVersion"
    }
   ],
   "dockerImageVersionId": 30823,
   "isGpuEnabled": true,
   "isInternetEnabled": true,
   "language": "python",
   "sourceType": "notebook"
  },
  "kernelspec": {
   "display_name": "Python 3",
   "language": "python",
   "name": "python3"
  },
  "language_info": {
   "codemirror_mode": {
    "name": "ipython",
    "version": 3
   },
   "file_extension": ".py",
   "mimetype": "text/x-python",
   "name": "python",
   "nbconvert_exporter": "python",
   "pygments_lexer": "ipython3",
   "version": "3.10.12"
  },
  "papermill": {
   "default_parameters": {},
   "duration": 7263.940509,
   "end_time": "2024-12-28T12:57:42.643889",
   "environment_variables": {},
   "exception": null,
   "input_path": "__notebook__.ipynb",
   "output_path": "__notebook__.ipynb",
   "parameters": {},
   "start_time": "2024-12-28T10:56:38.703380",
   "version": "2.6.0"
  }
 },
 "nbformat": 4,
 "nbformat_minor": 5
}
